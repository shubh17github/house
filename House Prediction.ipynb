{
 "cells": [
  {
   "cell_type": "markdown",
   "id": "11963627",
   "metadata": {},
   "source": [
    "### import Required Libraries:-"
   ]
  },
  {
   "cell_type": "code",
   "execution_count": 1,
   "id": "11edbcdf",
   "metadata": {},
   "outputs": [],
   "source": [
    "import numpy as np\n",
    "import pandas as pd\n",
    "import matplotlib.pyplot as plt\n",
    "import seaborn as sb\n",
    "from sklearn.model_selection import train_test_split\n",
    "from sklearn.linear_model import LinearRegression\n",
    "from sklearn.metrics import mean_absolute_error,mean_squared_error,r2_score\n"
   ]
  },
  {
   "cell_type": "markdown",
   "id": "3d9601be",
   "metadata": {},
   "source": [
    "### step1: Problem Statement"
   ]
  },
  {
   "cell_type": "raw",
   "id": "743a3b98",
   "metadata": {},
   "source": [
    "Predict the house price by using given historical data"
   ]
  },
  {
   "cell_type": "markdown",
   "id": "2693e9d0",
   "metadata": {},
   "source": [
    "### step2: Data Gathering"
   ]
  },
  {
   "cell_type": "code",
   "execution_count": 2,
   "id": "69442513",
   "metadata": {},
   "outputs": [
    {
     "data": {
      "text/html": [
       "<div>\n",
       "<style scoped>\n",
       "    .dataframe tbody tr th:only-of-type {\n",
       "        vertical-align: middle;\n",
       "    }\n",
       "\n",
       "    .dataframe tbody tr th {\n",
       "        vertical-align: top;\n",
       "    }\n",
       "\n",
       "    .dataframe thead th {\n",
       "        text-align: right;\n",
       "    }\n",
       "</style>\n",
       "<table border=\"1\" class=\"dataframe\">\n",
       "  <thead>\n",
       "    <tr style=\"text-align: right;\">\n",
       "      <th></th>\n",
       "      <th>area_type</th>\n",
       "      <th>availability</th>\n",
       "      <th>size</th>\n",
       "      <th>society</th>\n",
       "      <th>total_sqft</th>\n",
       "      <th>bath</th>\n",
       "      <th>balcony</th>\n",
       "      <th>price</th>\n",
       "      <th>site_location</th>\n",
       "    </tr>\n",
       "  </thead>\n",
       "  <tbody>\n",
       "    <tr>\n",
       "      <th>0</th>\n",
       "      <td>Super built-up  Area</td>\n",
       "      <td>19-Dec</td>\n",
       "      <td>2 BHK</td>\n",
       "      <td>Coomee</td>\n",
       "      <td>1056</td>\n",
       "      <td>2.0</td>\n",
       "      <td>1.0</td>\n",
       "      <td>39.07</td>\n",
       "      <td>Alandi Road</td>\n",
       "    </tr>\n",
       "    <tr>\n",
       "      <th>1</th>\n",
       "      <td>Plot  Area</td>\n",
       "      <td>Ready To Move</td>\n",
       "      <td>4 Bedroom</td>\n",
       "      <td>Theanmp</td>\n",
       "      <td>2600</td>\n",
       "      <td>5.0</td>\n",
       "      <td>3.0</td>\n",
       "      <td>120.00</td>\n",
       "      <td>Ambegaon Budruk</td>\n",
       "    </tr>\n",
       "    <tr>\n",
       "      <th>2</th>\n",
       "      <td>Built-up  Area</td>\n",
       "      <td>Ready To Move</td>\n",
       "      <td>3 BHK</td>\n",
       "      <td>NaN</td>\n",
       "      <td>1440</td>\n",
       "      <td>2.0</td>\n",
       "      <td>3.0</td>\n",
       "      <td>62.00</td>\n",
       "      <td>Anandnagar</td>\n",
       "    </tr>\n",
       "    <tr>\n",
       "      <th>3</th>\n",
       "      <td>Super built-up  Area</td>\n",
       "      <td>Ready To Move</td>\n",
       "      <td>3 BHK</td>\n",
       "      <td>Soiewre</td>\n",
       "      <td>1521</td>\n",
       "      <td>3.0</td>\n",
       "      <td>1.0</td>\n",
       "      <td>95.00</td>\n",
       "      <td>Aundh</td>\n",
       "    </tr>\n",
       "    <tr>\n",
       "      <th>4</th>\n",
       "      <td>Super built-up  Area</td>\n",
       "      <td>Ready To Move</td>\n",
       "      <td>2 BHK</td>\n",
       "      <td>NaN</td>\n",
       "      <td>1200</td>\n",
       "      <td>2.0</td>\n",
       "      <td>1.0</td>\n",
       "      <td>51.00</td>\n",
       "      <td>Aundh Road</td>\n",
       "    </tr>\n",
       "    <tr>\n",
       "      <th>...</th>\n",
       "      <td>...</td>\n",
       "      <td>...</td>\n",
       "      <td>...</td>\n",
       "      <td>...</td>\n",
       "      <td>...</td>\n",
       "      <td>...</td>\n",
       "      <td>...</td>\n",
       "      <td>...</td>\n",
       "      <td>...</td>\n",
       "    </tr>\n",
       "    <tr>\n",
       "      <th>13315</th>\n",
       "      <td>Built-up  Area</td>\n",
       "      <td>Ready To Move</td>\n",
       "      <td>5 Bedroom</td>\n",
       "      <td>ArsiaEx</td>\n",
       "      <td>3453</td>\n",
       "      <td>4.0</td>\n",
       "      <td>0.0</td>\n",
       "      <td>231.00</td>\n",
       "      <td>Pashan</td>\n",
       "    </tr>\n",
       "    <tr>\n",
       "      <th>13316</th>\n",
       "      <td>Super built-up  Area</td>\n",
       "      <td>Ready To Move</td>\n",
       "      <td>4 BHK</td>\n",
       "      <td>NaN</td>\n",
       "      <td>3600</td>\n",
       "      <td>5.0</td>\n",
       "      <td>NaN</td>\n",
       "      <td>400.00</td>\n",
       "      <td>Paud Road</td>\n",
       "    </tr>\n",
       "    <tr>\n",
       "      <th>13317</th>\n",
       "      <td>Built-up  Area</td>\n",
       "      <td>Ready To Move</td>\n",
       "      <td>2 BHK</td>\n",
       "      <td>Mahla T</td>\n",
       "      <td>1141</td>\n",
       "      <td>2.0</td>\n",
       "      <td>1.0</td>\n",
       "      <td>60.00</td>\n",
       "      <td>Pirangut</td>\n",
       "    </tr>\n",
       "    <tr>\n",
       "      <th>13318</th>\n",
       "      <td>Super built-up  Area</td>\n",
       "      <td>18-Jun</td>\n",
       "      <td>4 BHK</td>\n",
       "      <td>SollyCl</td>\n",
       "      <td>4689</td>\n",
       "      <td>4.0</td>\n",
       "      <td>1.0</td>\n",
       "      <td>488.00</td>\n",
       "      <td>Prabhat Road</td>\n",
       "    </tr>\n",
       "    <tr>\n",
       "      <th>13319</th>\n",
       "      <td>Super built-up  Area</td>\n",
       "      <td>Ready To Move</td>\n",
       "      <td>1 BHK</td>\n",
       "      <td>NaN</td>\n",
       "      <td>550</td>\n",
       "      <td>1.0</td>\n",
       "      <td>1.0</td>\n",
       "      <td>17.00</td>\n",
       "      <td>Pune Railway Station</td>\n",
       "    </tr>\n",
       "  </tbody>\n",
       "</table>\n",
       "<p>13320 rows × 9 columns</p>\n",
       "</div>"
      ],
      "text/plain": [
       "                  area_type   availability       size  society total_sqft  \\\n",
       "0      Super built-up  Area         19-Dec      2 BHK  Coomee        1056   \n",
       "1                Plot  Area  Ready To Move  4 Bedroom  Theanmp       2600   \n",
       "2            Built-up  Area  Ready To Move      3 BHK      NaN       1440   \n",
       "3      Super built-up  Area  Ready To Move      3 BHK  Soiewre       1521   \n",
       "4      Super built-up  Area  Ready To Move      2 BHK      NaN       1200   \n",
       "...                     ...            ...        ...      ...        ...   \n",
       "13315        Built-up  Area  Ready To Move  5 Bedroom  ArsiaEx       3453   \n",
       "13316  Super built-up  Area  Ready To Move      4 BHK      NaN       3600   \n",
       "13317        Built-up  Area  Ready To Move      2 BHK  Mahla T       1141   \n",
       "13318  Super built-up  Area         18-Jun      4 BHK  SollyCl       4689   \n",
       "13319  Super built-up  Area  Ready To Move      1 BHK      NaN        550   \n",
       "\n",
       "       bath  balcony   price         site_location  \n",
       "0       2.0      1.0   39.07           Alandi Road  \n",
       "1       5.0      3.0  120.00       Ambegaon Budruk  \n",
       "2       2.0      3.0   62.00            Anandnagar  \n",
       "3       3.0      1.0   95.00                 Aundh  \n",
       "4       2.0      1.0   51.00            Aundh Road  \n",
       "...     ...      ...     ...                   ...  \n",
       "13315   4.0      0.0  231.00                Pashan  \n",
       "13316   5.0      NaN  400.00             Paud Road  \n",
       "13317   2.0      1.0   60.00              Pirangut  \n",
       "13318   4.0      1.0  488.00          Prabhat Road  \n",
       "13319   1.0      1.0   17.00  Pune Railway Station  \n",
       "\n",
       "[13320 rows x 9 columns]"
      ]
     },
     "execution_count": 2,
     "metadata": {},
     "output_type": "execute_result"
    }
   ],
   "source": [
    "df=pd.read_csv('Pune_house_data.csv')\n",
    "df"
   ]
  },
  {
   "cell_type": "code",
   "execution_count": 3,
   "id": "56e2672e",
   "metadata": {},
   "outputs": [
    {
     "name": "stdout",
     "output_type": "stream",
     "text": [
      "<class 'pandas.core.frame.DataFrame'>\n",
      "RangeIndex: 13320 entries, 0 to 13319\n",
      "Data columns (total 9 columns):\n",
      " #   Column         Non-Null Count  Dtype  \n",
      "---  ------         --------------  -----  \n",
      " 0   area_type      13320 non-null  object \n",
      " 1   availability   13320 non-null  object \n",
      " 2   size           13304 non-null  object \n",
      " 3   society        7818 non-null   object \n",
      " 4   total_sqft     13320 non-null  object \n",
      " 5   bath           13247 non-null  float64\n",
      " 6   balcony        12711 non-null  float64\n",
      " 7   price          13320 non-null  float64\n",
      " 8   site_location  13319 non-null  object \n",
      "dtypes: float64(3), object(6)\n",
      "memory usage: 936.7+ KB\n"
     ]
    }
   ],
   "source": [
    "df.info()"
   ]
  },
  {
   "cell_type": "markdown",
   "id": "fb21a068",
   "metadata": {},
   "source": [
    "### step3: EDA & Feature Engineering"
   ]
  },
  {
   "cell_type": "code",
   "execution_count": 5,
   "id": "0504613c",
   "metadata": {},
   "outputs": [
    {
     "name": "stdout",
     "output_type": "stream",
     "text": [
      "(13320, 9)\n",
      "Index(['area_type', 'availability', 'size', 'society', 'total_sqft', 'bath',\n",
      "       'balcony', 'price', 'site_location'],\n",
      "      dtype='object')\n"
     ]
    }
   ],
   "source": [
    "print(df.shape)\n",
    "print(df.columns)"
   ]
  },
  {
   "cell_type": "code",
   "execution_count": 6,
   "id": "350d0dc7",
   "metadata": {},
   "outputs": [
    {
     "data": {
      "text/plain": [
       "area_type           0\n",
       "availability        0\n",
       "size               16\n",
       "society          5502\n",
       "total_sqft          0\n",
       "bath               73\n",
       "balcony           609\n",
       "price               0\n",
       "site_location       1\n",
       "dtype: int64"
      ]
     },
     "execution_count": 6,
     "metadata": {},
     "output_type": "execute_result"
    }
   ],
   "source": [
    "# checking for nan value\n",
    "df.isna().sum()"
   ]
  },
  {
   "cell_type": "code",
   "execution_count": 7,
   "id": "5b58fd0c",
   "metadata": {},
   "outputs": [
    {
     "data": {
      "text/plain": [
       "area_type         object\n",
       "availability      object\n",
       "size              object\n",
       "society           object\n",
       "total_sqft        object\n",
       "bath             float64\n",
       "balcony          float64\n",
       "price            float64\n",
       "site_location     object\n",
       "dtype: object"
      ]
     },
     "execution_count": 7,
     "metadata": {},
     "output_type": "execute_result"
    }
   ],
   "source": [
    "# checking for non numerci feature\n",
    "df.dtypes"
   ]
  },
  {
   "cell_type": "code",
   "execution_count": 8,
   "id": "8856cd36",
   "metadata": {},
   "outputs": [
    {
     "data": {
      "text/plain": [
       "array([False,  True])"
      ]
     },
     "execution_count": 8,
     "metadata": {},
     "output_type": "execute_result"
    }
   ],
   "source": [
    "# checking for duplicate rows >>>\n",
    "df.duplicated().unique()"
   ]
  },
  {
   "cell_type": "code",
   "execution_count": 9,
   "id": "fa32c739",
   "metadata": {},
   "outputs": [
    {
     "data": {
      "text/plain": [
       "False    13309\n",
       "True        11\n",
       "dtype: int64"
      ]
     },
     "execution_count": 9,
     "metadata": {},
     "output_type": "execute_result"
    }
   ],
   "source": [
    "df.duplicated().value_counts()"
   ]
  },
  {
   "cell_type": "code",
   "execution_count": 10,
   "id": "5f7c39de",
   "metadata": {},
   "outputs": [
    {
     "data": {
      "text/plain": [
       "2"
      ]
     },
     "execution_count": 10,
     "metadata": {},
     "output_type": "execute_result"
    }
   ],
   "source": [
    "df.duplicated().nunique()"
   ]
  },
  {
   "cell_type": "code",
   "execution_count": 11,
   "id": "11f184a8",
   "metadata": {},
   "outputs": [
    {
     "data": {
      "text/html": [
       "<div>\n",
       "<style scoped>\n",
       "    .dataframe tbody tr th:only-of-type {\n",
       "        vertical-align: middle;\n",
       "    }\n",
       "\n",
       "    .dataframe tbody tr th {\n",
       "        vertical-align: top;\n",
       "    }\n",
       "\n",
       "    .dataframe thead th {\n",
       "        text-align: right;\n",
       "    }\n",
       "</style>\n",
       "<table border=\"1\" class=\"dataframe\">\n",
       "  <thead>\n",
       "    <tr style=\"text-align: right;\">\n",
       "      <th></th>\n",
       "      <th>area_type</th>\n",
       "      <th>availability</th>\n",
       "      <th>size</th>\n",
       "      <th>society</th>\n",
       "      <th>total_sqft</th>\n",
       "      <th>bath</th>\n",
       "      <th>balcony</th>\n",
       "      <th>price</th>\n",
       "      <th>site_location</th>\n",
       "    </tr>\n",
       "  </thead>\n",
       "  <tbody>\n",
       "    <tr>\n",
       "      <th>7025</th>\n",
       "      <td>Super built-up  Area</td>\n",
       "      <td>Ready To Move</td>\n",
       "      <td>2 BHK</td>\n",
       "      <td>NaN</td>\n",
       "      <td>1000</td>\n",
       "      <td>2.0</td>\n",
       "      <td>1.0</td>\n",
       "      <td>60.00</td>\n",
       "      <td>Dapodi</td>\n",
       "    </tr>\n",
       "    <tr>\n",
       "      <th>8295</th>\n",
       "      <td>Super built-up  Area</td>\n",
       "      <td>Ready To Move</td>\n",
       "      <td>3 BHK</td>\n",
       "      <td>NaN</td>\n",
       "      <td>1290</td>\n",
       "      <td>2.0</td>\n",
       "      <td>2.0</td>\n",
       "      <td>56.12</td>\n",
       "      <td>Karve Road</td>\n",
       "    </tr>\n",
       "    <tr>\n",
       "      <th>9314</th>\n",
       "      <td>Super built-up  Area</td>\n",
       "      <td>Ready To Move</td>\n",
       "      <td>4 BHK</td>\n",
       "      <td>Prtanha</td>\n",
       "      <td>3122</td>\n",
       "      <td>6.0</td>\n",
       "      <td>2.0</td>\n",
       "      <td>245.00</td>\n",
       "      <td>Ambegaon Budruk</td>\n",
       "    </tr>\n",
       "    <tr>\n",
       "      <th>9483</th>\n",
       "      <td>Plot  Area</td>\n",
       "      <td>Ready To Move</td>\n",
       "      <td>2 Bedroom</td>\n",
       "      <td>NaN</td>\n",
       "      <td>900</td>\n",
       "      <td>2.0</td>\n",
       "      <td>0.0</td>\n",
       "      <td>55.00</td>\n",
       "      <td>Sahakar Nagar</td>\n",
       "    </tr>\n",
       "    <tr>\n",
       "      <th>9502</th>\n",
       "      <td>Super built-up  Area</td>\n",
       "      <td>Ready To Move</td>\n",
       "      <td>3 BHK</td>\n",
       "      <td>NaN</td>\n",
       "      <td>1464</td>\n",
       "      <td>3.0</td>\n",
       "      <td>2.0</td>\n",
       "      <td>56.00</td>\n",
       "      <td>Wanowrie</td>\n",
       "    </tr>\n",
       "    <tr>\n",
       "      <th>9815</th>\n",
       "      <td>Super built-up  Area</td>\n",
       "      <td>18-Aug</td>\n",
       "      <td>2 BHK</td>\n",
       "      <td>NaN</td>\n",
       "      <td>1225</td>\n",
       "      <td>2.0</td>\n",
       "      <td>2.0</td>\n",
       "      <td>48.00</td>\n",
       "      <td>Erandwane</td>\n",
       "    </tr>\n",
       "    <tr>\n",
       "      <th>10771</th>\n",
       "      <td>Built-up  Area</td>\n",
       "      <td>18-Dec</td>\n",
       "      <td>2 BHK</td>\n",
       "      <td>NaN</td>\n",
       "      <td>1200</td>\n",
       "      <td>2.0</td>\n",
       "      <td>1.0</td>\n",
       "      <td>34.65</td>\n",
       "      <td>Dehu Road</td>\n",
       "    </tr>\n",
       "    <tr>\n",
       "      <th>11065</th>\n",
       "      <td>Super built-up  Area</td>\n",
       "      <td>Ready To Move</td>\n",
       "      <td>3 BHK</td>\n",
       "      <td>DSerste</td>\n",
       "      <td>1362</td>\n",
       "      <td>3.0</td>\n",
       "      <td>1.0</td>\n",
       "      <td>62.63</td>\n",
       "      <td>Fergusson College Road</td>\n",
       "    </tr>\n",
       "    <tr>\n",
       "      <th>11457</th>\n",
       "      <td>Super built-up  Area</td>\n",
       "      <td>18-Dec</td>\n",
       "      <td>2 BHK</td>\n",
       "      <td>NaN</td>\n",
       "      <td>900</td>\n",
       "      <td>2.0</td>\n",
       "      <td>1.0</td>\n",
       "      <td>27.00</td>\n",
       "      <td>Hadapsar</td>\n",
       "    </tr>\n",
       "    <tr>\n",
       "      <th>12137</th>\n",
       "      <td>Super built-up  Area</td>\n",
       "      <td>Ready To Move</td>\n",
       "      <td>2 BHK</td>\n",
       "      <td>RInceeg</td>\n",
       "      <td>1243</td>\n",
       "      <td>2.0</td>\n",
       "      <td>2.0</td>\n",
       "      <td>46.00</td>\n",
       "      <td>Katraj</td>\n",
       "    </tr>\n",
       "    <tr>\n",
       "      <th>12422</th>\n",
       "      <td>Super built-up  Area</td>\n",
       "      <td>18-Jul</td>\n",
       "      <td>4 BHK</td>\n",
       "      <td>Rosha I</td>\n",
       "      <td>2119</td>\n",
       "      <td>4.0</td>\n",
       "      <td>2.0</td>\n",
       "      <td>111.00</td>\n",
       "      <td>Karve Nagar</td>\n",
       "    </tr>\n",
       "  </tbody>\n",
       "</table>\n",
       "</div>"
      ],
      "text/plain": [
       "                  area_type   availability       size  society total_sqft  \\\n",
       "7025   Super built-up  Area  Ready To Move      2 BHK      NaN       1000   \n",
       "8295   Super built-up  Area  Ready To Move      3 BHK      NaN       1290   \n",
       "9314   Super built-up  Area  Ready To Move      4 BHK  Prtanha       3122   \n",
       "9483             Plot  Area  Ready To Move  2 Bedroom      NaN        900   \n",
       "9502   Super built-up  Area  Ready To Move      3 BHK      NaN       1464   \n",
       "9815   Super built-up  Area         18-Aug      2 BHK      NaN       1225   \n",
       "10771        Built-up  Area         18-Dec      2 BHK      NaN       1200   \n",
       "11065  Super built-up  Area  Ready To Move      3 BHK  DSerste       1362   \n",
       "11457  Super built-up  Area         18-Dec      2 BHK      NaN        900   \n",
       "12137  Super built-up  Area  Ready To Move      2 BHK  RInceeg       1243   \n",
       "12422  Super built-up  Area         18-Jul      4 BHK  Rosha I       2119   \n",
       "\n",
       "       bath  balcony   price           site_location  \n",
       "7025    2.0      1.0   60.00                  Dapodi  \n",
       "8295    2.0      2.0   56.12              Karve Road  \n",
       "9314    6.0      2.0  245.00         Ambegaon Budruk  \n",
       "9483    2.0      0.0   55.00           Sahakar Nagar  \n",
       "9502    3.0      2.0   56.00                Wanowrie  \n",
       "9815    2.0      2.0   48.00               Erandwane  \n",
       "10771   2.0      1.0   34.65               Dehu Road  \n",
       "11065   3.0      1.0   62.63  Fergusson College Road  \n",
       "11457   2.0      1.0   27.00                Hadapsar  \n",
       "12137   2.0      2.0   46.00                  Katraj  \n",
       "12422   4.0      2.0  111.00             Karve Nagar  "
      ]
     },
     "execution_count": 11,
     "metadata": {},
     "output_type": "execute_result"
    }
   ],
   "source": [
    "df.loc[df.duplicated()]"
   ]
  },
  {
   "cell_type": "code",
   "execution_count": 12,
   "id": "f756ba0f",
   "metadata": {},
   "outputs": [
    {
     "data": {
      "text/plain": [
       "(13309, 9)"
      ]
     },
     "execution_count": 12,
     "metadata": {},
     "output_type": "execute_result"
    }
   ],
   "source": [
    "df.drop_duplicates(inplace=True)\n",
    "df.shape"
   ]
  },
  {
   "cell_type": "code",
   "execution_count": 13,
   "id": "b2b5bacf",
   "metadata": {},
   "outputs": [
    {
     "data": {
      "text/plain": [
       "area_type         Built-up  Area\n",
       "availability       Ready To Move\n",
       "size                   3 Bedroom\n",
       "society                      NaN\n",
       "total_sqft                  5720\n",
       "bath                         3.0\n",
       "balcony                      0.0\n",
       "price                      350.0\n",
       "site_location    Deccan Gymkhana\n",
       "Name: 7026, dtype: object"
      ]
     },
     "execution_count": 13,
     "metadata": {},
     "output_type": "execute_result"
    }
   ],
   "source": [
    "df.iloc[7025]"
   ]
  },
  {
   "cell_type": "code",
   "execution_count": 14,
   "id": "9c3c4a00",
   "metadata": {},
   "outputs": [
    {
     "data": {
      "text/plain": [
       "<AxesSubplot:>"
      ]
     },
     "execution_count": 14,
     "metadata": {},
     "output_type": "execute_result"
    },
    {
     "data": {
      "image/png": "[encoded data removed]",
      "text/plain": [
       "<Figure size 640x480 with 1 Axes>"
      ]
     },
     "metadata": {},
     "output_type": "display_data"
    }
   ],
   "source": [
    "# checking for outlier\n",
    "df.boxplot()\n"
   ]
  },
  {
   "cell_type": "code",
   "execution_count": 15,
   "id": "0a74f4c1",
   "metadata": {},
   "outputs": [],
   "source": [
    "# sb.boxplot(df['area_type'])"
   ]
  },
  {
   "cell_type": "markdown",
   "id": "352966ab",
   "metadata": {},
   "source": [
    "### 3.1 area_type(feature)"
   ]
  },
  {
   "cell_type": "code",
   "execution_count": null,
   "id": "e8cfc12a",
   "metadata": {},
   "outputs": [],
   "source": []
  },
  {
   "cell_type": "code",
   "execution_count": 16,
   "id": "def76f9b",
   "metadata": {},
   "outputs": [
    {
     "data": {
      "text/plain": [
       "Super built-up  Area    8781\n",
       "Built-up  Area          2417\n",
       "Plot  Area              2024\n",
       "Carpet  Area              87\n",
       "Name: area_type, dtype: int64"
      ]
     },
     "execution_count": 16,
     "metadata": {},
     "output_type": "execute_result"
    }
   ],
   "source": [
    "df['area_type'].value_counts()"
   ]
  },
  {
   "cell_type": "code",
   "execution_count": 17,
   "id": "cc329717",
   "metadata": {},
   "outputs": [
    {
     "data": {
      "text/plain": [
       "4    8781\n",
       "3    2417\n",
       "1    2024\n",
       "2      87\n",
       "Name: area_type, dtype: int64"
      ]
     },
     "execution_count": 17,
     "metadata": {},
     "output_type": "execute_result"
    }
   ],
   "source": [
    "# here the value from  area type feature are nominal type thats why we use label encoding\n",
    "df['area_type']=df['area_type'].replace({'Super built-up  Area':4,'Built-up  Area':3,'Carpet  Area':2,'Plot  Area':1})\n",
    "df['area_type'].value_counts()"
   ]
  },
  {
   "cell_type": "code",
   "execution_count": 18,
   "id": "826c7e9c",
   "metadata": {},
   "outputs": [
    {
     "data": {
      "text/plain": [
       "0"
      ]
     },
     "execution_count": 18,
     "metadata": {},
     "output_type": "execute_result"
    }
   ],
   "source": [
    "df['area_type'].isna().sum()"
   ]
  },
  {
   "cell_type": "markdown",
   "id": "8f985128",
   "metadata": {},
   "source": [
    "### 3.2 availability(feature)"
   ]
  },
  {
   "cell_type": "code",
   "execution_count": 19,
   "id": "9c79540c",
   "metadata": {},
   "outputs": [
    {
     "data": {
      "text/plain": [
       "Ready To Move    10574\n",
       "18-Dec             305\n",
       "18-May             295\n",
       "18-Apr             271\n",
       "18-Aug             199\n",
       "                 ...  \n",
       "15-Aug               1\n",
       "17-Jan               1\n",
       "16-Nov               1\n",
       "16-Jan               1\n",
       "14-Jul               1\n",
       "Name: availability, Length: 81, dtype: int64"
      ]
     },
     "execution_count": 19,
     "metadata": {},
     "output_type": "execute_result"
    }
   ],
   "source": [
    "df['availability'].value_counts()"
   ]
  },
  {
   "cell_type": "code",
   "execution_count": 20,
   "id": "ec8e84b2",
   "metadata": {},
   "outputs": [
    {
     "name": "stdout",
     "output_type": "stream",
     "text": [
      "81\n"
     ]
    },
    {
     "data": {
      "text/plain": [
       "array(['19-Dec', 'Ready To Move', '18-May', '18-Feb', '18-Nov', '20-Dec',\n",
       "       '17-Oct', '21-Dec', '19-Sep', '20-Sep', '18-Mar', '20-Feb',\n",
       "       '18-Apr', '20-Aug', '18-Oct', '19-Mar', '17-Sep', '18-Dec',\n",
       "       '17-Aug', '19-Apr', '18-Jun', '22-Dec', '22-Jan', '18-Aug',\n",
       "       '19-Jan', '17-Jul', '18-Jul', '21-Jun', '20-May', '19-Aug',\n",
       "       '18-Sep', '17-May', '17-Jun', '21-May', '18-Jan', '20-Mar',\n",
       "       '17-Dec', '16-Mar', '19-Jun', '22-Jun', '19-Jul', '21-Feb',\n",
       "       'Immediate Possession', '19-May', '17-Nov', '20-Oct', '20-Jun',\n",
       "       '19-Feb', '21-Oct', '21-Jan', '17-Mar', '17-Apr', '22-May',\n",
       "       '19-Oct', '21-Jul', '21-Nov', '21-Mar', '16-Dec', '22-Mar',\n",
       "       '20-Jan', '21-Sep', '21-Aug', '14-Nov', '19-Nov', '15-Nov',\n",
       "       '16-Jul', '15-Jun', '17-Feb', '20-Nov', '20-Jul', '16-Sep',\n",
       "       '15-Oct', '15-Dec', '16-Oct', '22-Nov', '15-Aug', '17-Jan',\n",
       "       '16-Nov', '20-Apr', '16-Jan', '14-Jul'], dtype=object)"
      ]
     },
     "execution_count": 20,
     "metadata": {},
     "output_type": "execute_result"
    }
   ],
   "source": [
    "print(df['availability'].nunique())\n",
    "df['availability'].unique()\n",
    "\n",
    "# this feature is not selected for prediction"
   ]
  },
  {
   "cell_type": "markdown",
   "id": "d306fa14",
   "metadata": {},
   "source": [
    "### 3.3 size\n"
   ]
  },
  {
   "cell_type": "code",
   "execution_count": 21,
   "id": "2b9ce4b2",
   "metadata": {},
   "outputs": [
    {
     "data": {
      "text/plain": [
       "31"
      ]
     },
     "execution_count": 21,
     "metadata": {},
     "output_type": "execute_result"
    }
   ],
   "source": [
    "df['size'].nunique()"
   ]
  },
  {
   "cell_type": "code",
   "execution_count": 22,
   "id": "c34af00f",
   "metadata": {},
   "outputs": [
    {
     "data": {
      "text/plain": [
       "array(['2 BHK', '4 Bedroom', '3 BHK', '4 BHK', '6 Bedroom', '3 Bedroom',\n",
       "       '1 BHK', '1 RK', '1 Bedroom', '8 Bedroom', '2 Bedroom',\n",
       "       '7 Bedroom', '5 BHK', '7 BHK', '6 BHK', '5 Bedroom', '11 BHK',\n",
       "       '9 BHK', nan, '9 Bedroom', '27 BHK', '10 Bedroom', '11 Bedroom',\n",
       "       '10 BHK', '19 BHK', '16 BHK', '43 Bedroom', '14 BHK', '8 BHK',\n",
       "       '12 Bedroom', '13 BHK', '18 Bedroom'], dtype=object)"
      ]
     },
     "execution_count": 22,
     "metadata": {},
     "output_type": "execute_result"
    }
   ],
   "source": [
    "df['size'].unique()"
   ]
  },
  {
   "cell_type": "code",
   "execution_count": 23,
   "id": "548d67b5",
   "metadata": {},
   "outputs": [
    {
     "data": {
      "text/plain": [
       "0            2 BHK\n",
       "1        4 Bedroom\n",
       "2            3 BHK\n",
       "3            3 BHK\n",
       "4            2 BHK\n",
       "           ...    \n",
       "13315    5 Bedroom\n",
       "13316        4 BHK\n",
       "13317        2 BHK\n",
       "13318        4 BHK\n",
       "13319        1 BHK\n",
       "Name: size, Length: 13309, dtype: object"
      ]
     },
     "execution_count": 23,
     "metadata": {},
     "output_type": "execute_result"
    }
   ],
   "source": [
    "df['size'].iloc[0:][0:]"
   ]
  },
  {
   "cell_type": "code",
   "execution_count": 24,
   "id": "cda4bd49",
   "metadata": {},
   "outputs": [],
   "source": [
    "df['sz']=df['size'].replace(r'[ a-zA-Z]+','',regex =True)"
   ]
  },
  {
   "cell_type": "code",
   "execution_count": 25,
   "id": "b7edc385",
   "metadata": {},
   "outputs": [
    {
     "data": {
      "text/plain": [
       "array(['2', '4', '3', '6', '1', '8', '7', '5', '11', '9', nan, '27', '10',\n",
       "       '19', '16', '43', '14', '12', '13', '18'], dtype=object)"
      ]
     },
     "execution_count": 25,
     "metadata": {},
     "output_type": "execute_result"
    }
   ],
   "source": [
    "df['sz'].unique()"
   ]
  },
  {
   "cell_type": "code",
   "execution_count": 26,
   "id": "bb6f57e3",
   "metadata": {},
   "outputs": [
    {
     "data": {
      "text/plain": [
       "0        2.0\n",
       "1        4.0\n",
       "2        3.0\n",
       "3        3.0\n",
       "4        2.0\n",
       "        ... \n",
       "13315    5.0\n",
       "13316    4.0\n",
       "13317    2.0\n",
       "13318    4.0\n",
       "13319    1.0\n",
       "Name: sz, Length: 13309, dtype: float64"
      ]
     },
     "execution_count": 26,
     "metadata": {},
     "output_type": "execute_result"
    }
   ],
   "source": [
    "df['sz']=df['sz'].astype(float)\n",
    "df['sz']"
   ]
  },
  {
   "cell_type": "code",
   "execution_count": 27,
   "id": "6e550cf2",
   "metadata": {},
   "outputs": [
    {
     "data": {
      "text/plain": [
       "dtype('float64')"
      ]
     },
     "execution_count": 27,
     "metadata": {},
     "output_type": "execute_result"
    }
   ],
   "source": [
    "df['sz'].dtype"
   ]
  },
  {
   "cell_type": "code",
   "execution_count": 28,
   "id": "5048f881",
   "metadata": {},
   "outputs": [],
   "source": [
    "df['sz'].fillna(df['sz'].mean(),inplace=True)"
   ]
  },
  {
   "cell_type": "code",
   "execution_count": 29,
   "id": "f61bcec2",
   "metadata": {},
   "outputs": [
    {
     "data": {
      "text/plain": [
       "0"
      ]
     },
     "execution_count": 29,
     "metadata": {},
     "output_type": "execute_result"
    }
   ],
   "source": [
    "df['sz'].isna().sum()"
   ]
  },
  {
   "cell_type": "code",
   "execution_count": 30,
   "id": "329cf981",
   "metadata": {},
   "outputs": [
    {
     "data": {
      "text/plain": [
       "Index(['area_type', 'availability', 'size', 'society', 'total_sqft', 'bath',\n",
       "       'balcony', 'price', 'site_location', 'sz'],\n",
       "      dtype='object')"
      ]
     },
     "execution_count": 30,
     "metadata": {},
     "output_type": "execute_result"
    }
   ],
   "source": [
    "df.columns"
   ]
  },
  {
   "cell_type": "markdown",
   "id": "e2c666c3",
   "metadata": {},
   "source": [
    "### 3.4 society feature"
   ]
  },
  {
   "cell_type": "code",
   "execution_count": 31,
   "id": "0bfb58df",
   "metadata": {},
   "outputs": [
    {
     "data": {
      "text/plain": [
       "0        Coomee \n",
       "1        Theanmp\n",
       "2            NaN\n",
       "3        Soiewre\n",
       "4            NaN\n",
       "          ...   \n",
       "13315    ArsiaEx\n",
       "13316        NaN\n",
       "13317    Mahla T\n",
       "13318    SollyCl\n",
       "13319        NaN\n",
       "Name: society, Length: 13309, dtype: object"
      ]
     },
     "execution_count": 31,
     "metadata": {},
     "output_type": "execute_result"
    }
   ],
   "source": [
    "df['society']"
   ]
  },
  {
   "cell_type": "code",
   "execution_count": 32,
   "id": "26fdbdca",
   "metadata": {},
   "outputs": [
    {
     "data": {
      "text/plain": [
       "GrrvaGr    80\n",
       "PrarePa    76\n",
       "Sryalan    59\n",
       "Prtates    59\n",
       "GMown E    56\n",
       "           ..\n",
       "Amionce     1\n",
       "JaghtDe     1\n",
       "Jauraht     1\n",
       "Brity U     1\n",
       "RSntsAp     1\n",
       "Name: society, Length: 2688, dtype: int64"
      ]
     },
     "execution_count": 32,
     "metadata": {},
     "output_type": "execute_result"
    }
   ],
   "source": [
    "df['society'].value_counts()"
   ]
  },
  {
   "cell_type": "code",
   "execution_count": 33,
   "id": "b68baeb3",
   "metadata": {},
   "outputs": [
    {
     "data": {
      "text/plain": [
       "array(['Coomee ', 'Theanmp', nan, ..., 'SJovest', 'ThhtsV ', 'RSntsAp'],\n",
       "      dtype=object)"
      ]
     },
     "execution_count": 33,
     "metadata": {},
     "output_type": "execute_result"
    }
   ],
   "source": [
    "df['society'].unique()"
   ]
  },
  {
   "cell_type": "code",
   "execution_count": 34,
   "id": "bcd4e8e5",
   "metadata": {},
   "outputs": [
    {
     "data": {
      "text/plain": [
       "2688"
      ]
     },
     "execution_count": 34,
     "metadata": {},
     "output_type": "execute_result"
    }
   ],
   "source": [
    "df['society'].nunique()"
   ]
  },
  {
   "cell_type": "code",
   "execution_count": 35,
   "id": "31b52c40",
   "metadata": {},
   "outputs": [],
   "source": [
    "# here society feature also we not consider for prediction"
   ]
  },
  {
   "cell_type": "markdown",
   "id": "9be9f3a4",
   "metadata": {},
   "source": [
    "### 3.5 total_sqft"
   ]
  },
  {
   "cell_type": "code",
   "execution_count": 36,
   "id": "d8013d20",
   "metadata": {},
   "outputs": [
    {
     "data": {
      "text/plain": [
       "0        1056\n",
       "1        2600\n",
       "2        1440\n",
       "3        1521\n",
       "4        1200\n",
       "         ... \n",
       "13315    3453\n",
       "13316    3600\n",
       "13317    1141\n",
       "13318    4689\n",
       "13319     550\n",
       "Name: total_sqft, Length: 13309, dtype: object"
      ]
     },
     "execution_count": 36,
     "metadata": {},
     "output_type": "execute_result"
    }
   ],
   "source": [
    "df['total_sqft']"
   ]
  },
  {
   "cell_type": "code",
   "execution_count": 37,
   "id": "70f4aa40",
   "metadata": {},
   "outputs": [
    {
     "name": "stdout",
     "output_type": "stream",
     "text": [
      "['1056' '2600' '1440' ... '1133 - 1384' '774' '4689']\n",
      "2117\n",
      "0\n",
      "object\n"
     ]
    }
   ],
   "source": [
    "print(df['total_sqft'].unique())\n",
    "print(df['total_sqft'].nunique())\n",
    "print(df['total_sqft'].isna().sum())\n",
    "print(df['total_sqft'].dtype)"
   ]
  },
  {
   "cell_type": "code",
   "execution_count": 38,
   "id": "de753b8f",
   "metadata": {},
   "outputs": [
    {
     "data": {
      "text/plain": [
       "dtype('float64')"
      ]
     },
     "execution_count": 38,
     "metadata": {},
     "output_type": "execute_result"
    }
   ],
   "source": [
    "length=[]\n",
    "for num in df['total_sqft']:\n",
    "    v=len(num)\n",
    "    if len(num)<=4:\n",
    "        length.append(num)\n",
    "length\n",
    "s1=pd.Series(length)\n",
    "df['sqft1']=s1\n",
    "df['sqft1']=df['sqft1'].astype(float)\n",
    "df['sqft1'].dtype"
   ]
  },
  {
   "cell_type": "code",
   "execution_count": 39,
   "id": "df8b20dd",
   "metadata": {},
   "outputs": [
    {
     "data": {
      "text/plain": [
       "0"
      ]
     },
     "execution_count": 39,
     "metadata": {},
     "output_type": "execute_result"
    }
   ],
   "source": [
    "df['sqft1'].fillna(df['sqft1'].mean(),inplace=True)\n",
    "df['sqft1'].isna().sum()\n",
    "# df['sqft']=df['total_sqft'].replace(r'[\\D]+','',regex =True)\n",
    "\n",
    "# df['sqft']=df['total_sqft'].replace({'':np.nan})\n",
    "# df['sqft'].fillna(df['sqft'].mean())\n",
    "# df['sqft1']=df['sqft'].astype(float)\n",
    "\n",
    "# df['sqft1']=df['sqft1'].fillna(df['sqft1'].mean())\n",
    "# df['sqft1'].dtype"
   ]
  },
  {
   "cell_type": "code",
   "execution_count": 40,
   "id": "e67cad7e",
   "metadata": {},
   "outputs": [],
   "source": [
    "# v=[]\n",
    "# for item in df['sqft']:\n",
    "#     # print(item)\n",
    "    \n",
    "#     var = item.split(\" \")\n",
    "#     print(var[-1])\n",
    "#     v.append(var[-1])\n",
    "# #     if var[-1] != 'Lakh*':\n",
    "# #         print(var[-1])"
   ]
  },
  {
   "cell_type": "markdown",
   "id": "58add3f8",
   "metadata": {},
   "source": [
    "### 3.6 bath feature\n"
   ]
  },
  {
   "cell_type": "code",
   "execution_count": 41,
   "id": "585342c0",
   "metadata": {},
   "outputs": [
    {
     "data": {
      "text/plain": [
       "0        2.0\n",
       "1        5.0\n",
       "2        2.0\n",
       "3        3.0\n",
       "4        2.0\n",
       "        ... \n",
       "13315    4.0\n",
       "13316    5.0\n",
       "13317    2.0\n",
       "13318    4.0\n",
       "13319    1.0\n",
       "Name: bath, Length: 13309, dtype: float64"
      ]
     },
     "execution_count": 41,
     "metadata": {},
     "output_type": "execute_result"
    }
   ],
   "source": [
    "# here data already in numeric type & some nan value present & having outlier\n",
    "df['bath']"
   ]
  },
  {
   "cell_type": "code",
   "execution_count": 42,
   "id": "d6d421e6",
   "metadata": {},
   "outputs": [
    {
     "name": "stdout",
     "output_type": "stream",
     "text": [
      "[ 2.  5.  3.  4.  6.  1.  9. nan  8.  7. 11. 10. 14. 27. 12. 16. 40. 15.\n",
      " 13. 18.]\n",
      "19\n",
      "73\n",
      "float64\n"
     ]
    }
   ],
   "source": [
    "print(df['bath'].unique())\n",
    "print(df['bath'].nunique())\n",
    "print(df['bath'].isna().sum())\n",
    "print(df['bath'].dtype)"
   ]
  },
  {
   "cell_type": "code",
   "execution_count": 43,
   "id": "fb212a3e",
   "metadata": {},
   "outputs": [
    {
     "name": "stderr",
     "output_type": "stream",
     "text": [
      "C:\\Users\\shubh\\anaconda3\\envs\\pune_house\\lib\\site-packages\\seaborn\\_decorators.py:36: FutureWarning: Pass the following variable as a keyword arg: x. From version 0.12, the only valid positional argument will be `data`, and passing other arguments without an explicit keyword will result in an error or misinterpretation.\n",
      "  warnings.warn(\n"
     ]
    },
    {
     "data": {
      "text/plain": [
       "<AxesSubplot:xlabel='bath'>"
      ]
     },
     "execution_count": 43,
     "metadata": {},
     "output_type": "execute_result"
    }
   ],
   "source": [
    "sb.boxplot(df['bath'])"
   ]
  },
  {
   "cell_type": "code",
   "execution_count": 44,
   "id": "de5f52e7",
   "metadata": {},
   "outputs": [
    {
     "data": {
      "text/plain": [
       "<AxesSubplot:xlabel='bath'>"
      ]
     },
     "execution_count": 44,
     "metadata": {},
     "output_type": "execute_result"
    }
   ],
   "source": [
    "df[['bath']].boxplot()"
   ]
  },
  {
   "cell_type": "code",
   "execution_count": 45,
   "id": "0994cbb9",
   "metadata": {},
   "outputs": [
    {
     "name": "stdout",
     "output_type": "stream",
     "text": [
      "<class 'pandas.core.frame.DataFrame'>\n",
      "Int64Index: 13309 entries, 0 to 13319\n",
      "Data columns (total 11 columns):\n",
      " #   Column         Non-Null Count  Dtype  \n",
      "---  ------         --------------  -----  \n",
      " 0   area_type      13309 non-null  int64  \n",
      " 1   availability   13309 non-null  object \n",
      " 2   size           13293 non-null  object \n",
      " 3   society        7814 non-null   object \n",
      " 4   total_sqft     13309 non-null  object \n",
      " 5   bath           13236 non-null  float64\n",
      " 6   balcony        12700 non-null  float64\n",
      " 7   price          13309 non-null  float64\n",
      " 8   site_location  13308 non-null  object \n",
      " 9   sz             13309 non-null  float64\n",
      " 10  sqft1          13309 non-null  float64\n",
      "dtypes: float64(5), int64(1), object(5)\n",
      "memory usage: 1.2+ MB\n"
     ]
    }
   ],
   "source": [
    "df.info()"
   ]
  },
  {
   "cell_type": "code",
   "execution_count": 46,
   "id": "ee44fef7",
   "metadata": {},
   "outputs": [
    {
     "data": {
      "text/html": [
       "<div>\n",
       "<style scoped>\n",
       "    .dataframe tbody tr th:only-of-type {\n",
       "        vertical-align: middle;\n",
       "    }\n",
       "\n",
       "    .dataframe tbody tr th {\n",
       "        vertical-align: top;\n",
       "    }\n",
       "\n",
       "    .dataframe thead th {\n",
       "        text-align: right;\n",
       "    }\n",
       "</style>\n",
       "<table border=\"1\" class=\"dataframe\">\n",
       "  <thead>\n",
       "    <tr style=\"text-align: right;\">\n",
       "      <th></th>\n",
       "      <th>area_type</th>\n",
       "      <th>bath</th>\n",
       "      <th>balcony</th>\n",
       "      <th>price</th>\n",
       "      <th>sz</th>\n",
       "      <th>sqft1</th>\n",
       "    </tr>\n",
       "  </thead>\n",
       "  <tbody>\n",
       "    <tr>\n",
       "      <th>count</th>\n",
       "      <td>13309.000000</td>\n",
       "      <td>13236.000000</td>\n",
       "      <td>12700.000000</td>\n",
       "      <td>13309.000000</td>\n",
       "      <td>13309.000000</td>\n",
       "      <td>13309.000000</td>\n",
       "    </tr>\n",
       "    <tr>\n",
       "      <th>mean</th>\n",
       "      <td>3.349087</td>\n",
       "      <td>2.692581</td>\n",
       "      <td>1.584488</td>\n",
       "      <td>112.598448</td>\n",
       "      <td>2.803882</td>\n",
       "      <td>1519.534282</td>\n",
       "    </tr>\n",
       "    <tr>\n",
       "      <th>std</th>\n",
       "      <td>1.073709</td>\n",
       "      <td>1.341559</td>\n",
       "      <td>0.817381</td>\n",
       "      <td>149.019488</td>\n",
       "      <td>1.294532</td>\n",
       "      <td>822.208945</td>\n",
       "    </tr>\n",
       "    <tr>\n",
       "      <th>min</th>\n",
       "      <td>1.000000</td>\n",
       "      <td>1.000000</td>\n",
       "      <td>0.000000</td>\n",
       "      <td>8.000000</td>\n",
       "      <td>1.000000</td>\n",
       "      <td>1.000000</td>\n",
       "    </tr>\n",
       "    <tr>\n",
       "      <th>25%</th>\n",
       "      <td>3.000000</td>\n",
       "      <td>2.000000</td>\n",
       "      <td>1.000000</td>\n",
       "      <td>50.000000</td>\n",
       "      <td>2.000000</td>\n",
       "      <td>1100.000000</td>\n",
       "    </tr>\n",
       "    <tr>\n",
       "      <th>50%</th>\n",
       "      <td>4.000000</td>\n",
       "      <td>2.000000</td>\n",
       "      <td>2.000000</td>\n",
       "      <td>72.000000</td>\n",
       "      <td>3.000000</td>\n",
       "      <td>1290.000000</td>\n",
       "    </tr>\n",
       "    <tr>\n",
       "      <th>75%</th>\n",
       "      <td>4.000000</td>\n",
       "      <td>3.000000</td>\n",
       "      <td>2.000000</td>\n",
       "      <td>120.000000</td>\n",
       "      <td>3.000000</td>\n",
       "      <td>1650.000000</td>\n",
       "    </tr>\n",
       "    <tr>\n",
       "      <th>max</th>\n",
       "      <td>4.000000</td>\n",
       "      <td>40.000000</td>\n",
       "      <td>3.000000</td>\n",
       "      <td>3600.000000</td>\n",
       "      <td>43.000000</td>\n",
       "      <td>9600.000000</td>\n",
       "    </tr>\n",
       "  </tbody>\n",
       "</table>\n",
       "</div>"
      ],
      "text/plain": [
       "          area_type          bath       balcony         price            sz  \\\n",
       "count  13309.000000  13236.000000  12700.000000  13309.000000  13309.000000   \n",
       "mean       3.349087      2.692581      1.584488    112.598448      2.803882   \n",
       "std        1.073709      1.341559      0.817381    149.019488      1.294532   \n",
       "min        1.000000      1.000000      0.000000      8.000000      1.000000   \n",
       "25%        3.000000      2.000000      1.000000     50.000000      2.000000   \n",
       "50%        4.000000      2.000000      2.000000     72.000000      3.000000   \n",
       "75%        4.000000      3.000000      2.000000    120.000000      3.000000   \n",
       "max        4.000000     40.000000      3.000000   3600.000000     43.000000   \n",
       "\n",
       "              sqft1  \n",
       "count  13309.000000  \n",
       "mean    1519.534282  \n",
       "std      822.208945  \n",
       "min        1.000000  \n",
       "25%     1100.000000  \n",
       "50%     1290.000000  \n",
       "75%     1650.000000  \n",
       "max     9600.000000  "
      ]
     },
     "execution_count": 46,
     "metadata": {},
     "output_type": "execute_result"
    }
   ],
   "source": [
    "df.describe()"
   ]
  },
  {
   "cell_type": "code",
   "execution_count": 47,
   "id": "bfeaba29",
   "metadata": {},
   "outputs": [
    {
     "name": "stdout",
     "output_type": "stream",
     "text": [
      "1.0\n",
      "4.5\n",
      "0.5\n",
      "1.0\n",
      "40.0\n"
     ]
    }
   ],
   "source": [
    "q1=df['bath'].quantile(0.25)\n",
    "q3=df['bath'].quantile(0.75)\n",
    "IQR=q3-q1\n",
    "print(IQR)\n",
    "upper_tail=q3+1.5*IQR\n",
    "lower_tail=q1-1.5*IQR\n",
    "print(upper_tail)\n",
    "print(lower_tail)\n",
    "print(df['bath'].min())\n",
    "print(df['bath'].max())"
   ]
  },
  {
   "cell_type": "code",
   "execution_count": 48,
   "id": "8ff810bc",
   "metadata": {},
   "outputs": [
    {
     "data": {
      "text/plain": [
       "2.0"
      ]
     },
     "execution_count": 48,
     "metadata": {},
     "output_type": "execute_result"
    }
   ],
   "source": [
    "median=df['bath'].median()\n",
    "median\n"
   ]
  },
  {
   "cell_type": "raw",
   "id": "b60d2402",
   "metadata": {},
   "source": [
    "upper_outlier_index=df['bath'].loc[df['bath']>=upper_tail].index\n",
    "\n",
    "df['bath']=df['bath'].iloc[upper_outlier_index]=median\n",
    "\n",
    "\n",
    "upper_outlier_index"
   ]
  },
  {
   "cell_type": "code",
   "execution_count": 49,
   "id": "bd0badeb",
   "metadata": {},
   "outputs": [
    {
     "data": {
      "text/plain": [
       "0"
      ]
     },
     "execution_count": 49,
     "metadata": {},
     "output_type": "execute_result"
    }
   ],
   "source": [
    "df['bath']=df['bath'].fillna(df['bath'].mean())\n",
    "df['bath'].isna().sum()"
   ]
  },
  {
   "cell_type": "code",
   "execution_count": 50,
   "id": "19466bfb",
   "metadata": {},
   "outputs": [
    {
     "name": "stderr",
     "output_type": "stream",
     "text": [
      "C:\\Users\\shubh\\anaconda3\\envs\\pune_house\\lib\\site-packages\\seaborn\\_decorators.py:36: FutureWarning: Pass the following variable as a keyword arg: x. From version 0.12, the only valid positional argument will be `data`, and passing other arguments without an explicit keyword will result in an error or misinterpretation.\n",
      "  warnings.warn(\n"
     ]
    },
    {
     "data": {
      "text/plain": [
       "<AxesSubplot:xlabel='bath'>"
      ]
     },
     "execution_count": 50,
     "metadata": {},
     "output_type": "execute_result"
    }
   ],
   "source": [
    "sb.boxplot(df['bath'])"
   ]
  },
  {
   "cell_type": "code",
   "execution_count": 51,
   "id": "1f21fab2",
   "metadata": {},
   "outputs": [
    {
     "data": {
      "text/plain": [
       "dtype('float64')"
      ]
     },
     "execution_count": 51,
     "metadata": {},
     "output_type": "execute_result"
    }
   ],
   "source": [
    "df['bath'].isna().sum()\n",
    "df['bath'].dtype"
   ]
  },
  {
   "cell_type": "code",
   "execution_count": 52,
   "id": "27af219c",
   "metadata": {},
   "outputs": [
    {
     "data": {
      "text/plain": [
       "Index(['area_type', 'availability', 'size', 'society', 'total_sqft', 'bath',\n",
       "       'balcony', 'price', 'site_location', 'sz', 'sqft1'],\n",
       "      dtype='object')"
      ]
     },
     "execution_count": 52,
     "metadata": {},
     "output_type": "execute_result"
    }
   ],
   "source": [
    "df.columns"
   ]
  },
  {
   "cell_type": "markdown",
   "id": "f1aac3a1",
   "metadata": {},
   "source": [
    "### 3.7 balcony feature\n"
   ]
  },
  {
   "cell_type": "code",
   "execution_count": 53,
   "id": "1782ac4a",
   "metadata": {},
   "outputs": [
    {
     "data": {
      "text/plain": [
       "0        1.0\n",
       "1        3.0\n",
       "2        3.0\n",
       "3        1.0\n",
       "4        1.0\n",
       "        ... \n",
       "13315    0.0\n",
       "13316    NaN\n",
       "13317    1.0\n",
       "13318    1.0\n",
       "13319    1.0\n",
       "Name: balcony, Length: 13309, dtype: float64"
      ]
     },
     "execution_count": 53,
     "metadata": {},
     "output_type": "execute_result"
    }
   ],
   "source": [
    "df['balcony']"
   ]
  },
  {
   "cell_type": "code",
   "execution_count": 54,
   "id": "e4cc001a",
   "metadata": {},
   "outputs": [
    {
     "name": "stdout",
     "output_type": "stream",
     "text": [
      "[ 1.  3. nan  2.  0.]\n",
      "4\n",
      "609\n",
      "float64\n"
     ]
    }
   ],
   "source": [
    "print(df['balcony'].unique())\n",
    "print(df['balcony'].nunique())\n",
    "print(df['balcony'].isna().sum())\n",
    "print(df['balcony'].dtype)"
   ]
  },
  {
   "cell_type": "code",
   "execution_count": 55,
   "id": "1187b0b8",
   "metadata": {},
   "outputs": [
    {
     "name": "stderr",
     "output_type": "stream",
     "text": [
      "C:\\Users\\shubh\\anaconda3\\envs\\pune_house\\lib\\site-packages\\seaborn\\_decorators.py:36: FutureWarning: Pass the following variable as a keyword arg: x. From version 0.12, the only valid positional argument will be `data`, and passing other arguments without an explicit keyword will result in an error or misinterpretation.\n",
      "  warnings.warn(\n"
     ]
    },
    {
     "data": {
      "text/plain": [
       "<AxesSubplot:xlabel='balcony'>"
      ]
     },
     "execution_count": 55,
     "metadata": {},
     "output_type": "execute_result"
    }
   ],
   "source": [
    "sb.boxplot(df['balcony'])"
   ]
  },
  {
   "cell_type": "code",
   "execution_count": 56,
   "id": "2bbb16ec",
   "metadata": {},
   "outputs": [
    {
     "name": "stdout",
     "output_type": "stream",
     "text": [
      "0\n"
     ]
    }
   ],
   "source": [
    "df['balcony']=df['balcony'].fillna(df['balcony'].mean())\n",
    "print(df['balcony'].isna().sum())"
   ]
  },
  {
   "cell_type": "code",
   "execution_count": 57,
   "id": "65f0c01a",
   "metadata": {},
   "outputs": [
    {
     "name": "stderr",
     "output_type": "stream",
     "text": [
      "C:\\Users\\shubh\\anaconda3\\envs\\pune_house\\lib\\site-packages\\seaborn\\_decorators.py:36: FutureWarning: Pass the following variable as a keyword arg: x. From version 0.12, the only valid positional argument will be `data`, and passing other arguments without an explicit keyword will result in an error or misinterpretation.\n",
      "  warnings.warn(\n"
     ]
    },
    {
     "data": {
      "text/plain": [
       "<AxesSubplot:xlabel='balcony'>"
      ]
     },
     "execution_count": 57,
     "metadata": {},
     "output_type": "execute_result"
    }
   ],
   "source": [
    "sb.boxplot(df['balcony'])"
   ]
  },
  {
   "cell_type": "code",
   "execution_count": 58,
   "id": "00f224bf",
   "metadata": {},
   "outputs": [
    {
     "data": {
      "text/plain": [
       "Index(['area_type', 'availability', 'size', 'society', 'total_sqft', 'bath',\n",
       "       'balcony', 'price', 'site_location', 'sz', 'sqft1'],\n",
       "      dtype='object')"
      ]
     },
     "execution_count": 58,
     "metadata": {},
     "output_type": "execute_result"
    }
   ],
   "source": [
    "df.columns"
   ]
  },
  {
   "cell_type": "markdown",
   "id": "216e3c98",
   "metadata": {},
   "source": [
    "### 3.8 site_location feature\n"
   ]
  },
  {
   "cell_type": "code",
   "execution_count": 59,
   "id": "c162841a",
   "metadata": {},
   "outputs": [
    {
     "data": {
      "text/plain": [
       "0                 Alandi Road\n",
       "1             Ambegaon Budruk\n",
       "2                  Anandnagar\n",
       "3                       Aundh\n",
       "4                  Aundh Road\n",
       "                 ...         \n",
       "13315                  Pashan\n",
       "13316               Paud Road\n",
       "13317                Pirangut\n",
       "13318            Prabhat Road\n",
       "13319    Pune Railway Station\n",
       "Name: site_location, Length: 13309, dtype: object"
      ]
     },
     "execution_count": 59,
     "metadata": {},
     "output_type": "execute_result"
    }
   ],
   "source": [
    "df['site_location']"
   ]
  },
  {
   "cell_type": "code",
   "execution_count": 60,
   "id": "edcd2442",
   "metadata": {},
   "outputs": [
    {
     "name": "stdout",
     "output_type": "stream",
     "text": [
      "['Alandi Road' 'Ambegaon Budruk' 'Anandnagar' 'Aundh' 'Aundh Road'\n",
      " 'Balaji Nagar' 'Baner' 'Baner road' 'Bhandarkar Road' 'Bhavani Peth'\n",
      " 'Bibvewadi' 'Bopodi' 'Budhwar Peth' 'Bund Garden Road' 'Camp'\n",
      " 'Chandan Nagar' 'Dapodi' 'Deccan Gymkhana' 'Dehu Road' 'Dhankawadi'\n",
      " 'Dhayari Phata' 'Dhole Patil Road' 'Erandwane' 'Fatima Nagar'\n",
      " 'Fergusson College Road' 'Ganesh Peth' 'Ganeshkhind' 'Ghorpade Peth'\n",
      " 'other' 'Gokhale Nagar' 'Gultekdi' 'Guruwar peth' 'Hadapsar'\n",
      " 'Hadapsar Industrial Estate' 'Hingne Khurd' 'Jangali Maharaj Road'\n",
      " 'Kalyani Nagar' 'Karve Nagar' 'Karve Road' 'Kasba Peth' 'Katraj'\n",
      " 'Khadaki' 'Khadki' 'Kharadi' 'Kondhwa' 'Kondhwa Budruk' 'Kondhwa Khurd'\n",
      " 'Koregaon Park' 'Kothrud' 'Law College Road' 'Laxmi Road' 'Lulla Nagar'\n",
      " 'Mahatma Gandhi Road' 'Mangalwar peth' 'Manik Bagh' 'Market yard'\n",
      " 'Model colony' 'Mukund Nagar' 'Mundhawa' 'Nagar Road' 'Nana Peth'\n",
      " 'Narayan Peth' 'Narayangaon' 'Navi Peth' 'Padmavati' 'Parvati Darshan'\n",
      " 'Pashan' 'Paud Road' 'Pirangut' 'Prabhat Road' 'Pune Railway Station'\n",
      " 'Rasta Peth' 'Raviwar Peth' 'Sadashiv Peth' 'Sahakar Nagar'\n",
      " 'Salunke Vihar' 'Sasson Road' 'Satara Road' 'Senapati Bapat Road'\n",
      " 'Shaniwar Peth' 'Shivaji Nagar' 'Shukrawar Peth' 'Sinhagad Road'\n",
      " 'Somwar Peth' 'Swargate' 'Tilak Road' 'Uruli Devachi' 'Vadgaon Budruk'\n",
      " 'Wadgaon Sheri' 'Viman Nagar' 'Vishrant Wadi' 'Wagholi' 'Wakadewadi'\n",
      " 'Wanowrie' 'Warje' 'Yerawada' 'Ghorpadi' nan]\n",
      "97\n",
      "1\n",
      "object\n"
     ]
    }
   ],
   "source": [
    "print(df['site_location'].unique())\n",
    "print(df['site_location'].nunique())\n",
    "print(df['site_location'].isna().sum())\n",
    "print(df['site_location'].dtype)"
   ]
  },
  {
   "cell_type": "code",
   "execution_count": 61,
   "id": "72909e6b",
   "metadata": {},
   "outputs": [
    {
     "data": {
      "text/plain": [
       "0"
      ]
     },
     "execution_count": 61,
     "metadata": {},
     "output_type": "execute_result"
    }
   ],
   "source": [
    "from sklearn.preprocessing import LabelEncoder\n",
    "lb=LabelEncoder()\n",
    "df['location']=lb.fit_transform(df['site_location'])\n",
    "df['location'].isna().sum()"
   ]
  },
  {
   "cell_type": "code",
   "execution_count": 62,
   "id": "1897ec58",
   "metadata": {},
   "outputs": [
    {
     "data": {
      "text/plain": [
       "13309"
      ]
     },
     "execution_count": 62,
     "metadata": {},
     "output_type": "execute_result"
    }
   ],
   "source": [
    "df['site_location'].size"
   ]
  },
  {
   "cell_type": "code",
   "execution_count": 63,
   "id": "e52d4ab7",
   "metadata": {},
   "outputs": [
    {
     "data": {
      "text/plain": [
       "13309"
      ]
     },
     "execution_count": 63,
     "metadata": {},
     "output_type": "execute_result"
    }
   ],
   "source": [
    "df['location'].size"
   ]
  },
  {
   "cell_type": "code",
   "execution_count": 64,
   "id": "57112b35",
   "metadata": {},
   "outputs": [
    {
     "name": "stdout",
     "output_type": "stream",
     "text": [
      "<class 'pandas.core.frame.DataFrame'>\n",
      "Int64Index: 13309 entries, 0 to 13319\n",
      "Data columns (total 12 columns):\n",
      " #   Column         Non-Null Count  Dtype  \n",
      "---  ------         --------------  -----  \n",
      " 0   area_type      13309 non-null  int64  \n",
      " 1   availability   13309 non-null  object \n",
      " 2   size           13293 non-null  object \n",
      " 3   society        7814 non-null   object \n",
      " 4   total_sqft     13309 non-null  object \n",
      " 5   bath           13309 non-null  float64\n",
      " 6   balcony        13309 non-null  float64\n",
      " 7   price          13309 non-null  float64\n",
      " 8   site_location  13308 non-null  object \n",
      " 9   sz             13309 non-null  float64\n",
      " 10  sqft1          13309 non-null  float64\n",
      " 11  location       13309 non-null  int32  \n",
      "dtypes: float64(5), int32(1), int64(1), object(5)\n",
      "memory usage: 1.3+ MB\n"
     ]
    }
   ],
   "source": [
    "df.info()"
   ]
  },
  {
   "cell_type": "code",
   "execution_count": 66,
   "id": "421e8ba6",
   "metadata": {},
   "outputs": [
    {
     "data": {
      "text/plain": [
       "0        1056.000000\n",
       "1        2600.000000\n",
       "2        1440.000000\n",
       "3        1521.000000\n",
       "4        1200.000000\n",
       "            ...     \n",
       "13315    1519.534282\n",
       "13316    1519.534282\n",
       "13317    1519.534282\n",
       "13318    1519.534282\n",
       "13319    1519.534282\n",
       "Name: sqft1, Length: 13309, dtype: float64"
      ]
     },
     "execution_count": 66,
     "metadata": {},
     "output_type": "execute_result"
    }
   ],
   "source": [
    "# sb.boxplot(df['sqft1'])\n",
    "df['sqft1']"
   ]
  },
  {
   "cell_type": "code",
   "execution_count": 67,
   "id": "8c90b767",
   "metadata": {},
   "outputs": [],
   "source": [
    "# q1=df['sqft1'].quantile(0.25)\n",
    "# q3=df['sqft1'].quantile(0.75)\n",
    "# IQR=q3-q1\n",
    "# print(IQR)\n",
    "# upper_tail=q3+1.5*IQR\n",
    "# lower_tail=q1-1.5*IQR\n",
    "# print(upper_tail)\n",
    "# print(lower_tail)\n",
    "# print(df['sqft1'].min())\n",
    "# print(df['sqft1'].max())"
   ]
  },
  {
   "cell_type": "code",
   "execution_count": 68,
   "id": "d8641958",
   "metadata": {},
   "outputs": [
    {
     "name": "stderr",
     "output_type": "stream",
     "text": [
      "C:\\Users\\shubh\\anaconda3\\envs\\pune_house\\lib\\site-packages\\seaborn\\_decorators.py:36: FutureWarning: Pass the following variable as a keyword arg: x. From version 0.12, the only valid positional argument will be `data`, and passing other arguments without an explicit keyword will result in an error or misinterpretation.\n",
      "  warnings.warn(\n"
     ]
    },
    {
     "data": {
      "text/plain": [
       "<AxesSubplot:xlabel='sqft1'>"
      ]
     },
     "execution_count": 68,
     "metadata": {},
     "output_type": "execute_result"
    }
   ],
   "source": [
    "# median=df['sqft1'].median()\n",
    "# print(median)\n",
    "# upper_outlier_index=df['sqft1'].loc[df['sqft1']>upper_tail].index\n",
    "\n",
    "# df['sqft1']=df['sqft1'].iloc[upper_outlier_index]=median\n",
    "sb.boxplot(df['sqft1'])"
   ]
  },
  {
   "cell_type": "code",
   "execution_count": 69,
   "id": "90dd2c03",
   "metadata": {},
   "outputs": [
    {
     "data": {
      "text/plain": [
       "array([1056.        , 2600.        , 1440.        , ...,  774.        ,\n",
       "       4689.        , 1519.53428152])"
      ]
     },
     "execution_count": 69,
     "metadata": {},
     "output_type": "execute_result"
    }
   ],
   "source": [
    "df['sqft1'].unique()"
   ]
  },
  {
   "cell_type": "markdown",
   "id": "ac4f891c",
   "metadata": {},
   "source": [
    "### step4: Feature Selection"
   ]
  },
  {
   "cell_type": "code",
   "execution_count": 72,
   "id": "755a6538",
   "metadata": {},
   "outputs": [
    {
     "data": {
      "text/plain": [
       "75.00     310\n",
       "65.00     302\n",
       "55.00     274\n",
       "60.00     269\n",
       "45.00     240\n",
       "         ... \n",
       "351.00      1\n",
       "54.10       1\n",
       "80.64       1\n",
       "32.73       1\n",
       "488.00      1\n",
       "Name: price, Length: 1994, dtype: int64"
      ]
     },
     "execution_count": 72,
     "metadata": {},
     "output_type": "execute_result"
    }
   ],
   "source": [
    "df['price'].value_counts()"
   ]
  },
  {
   "cell_type": "code",
   "execution_count": 73,
   "id": "e573493b",
   "metadata": {},
   "outputs": [
    {
     "data": {
      "text/plain": [
       "75.00     2.329251\n",
       "65.00     2.269141\n",
       "55.00     2.058757\n",
       "60.00     2.021189\n",
       "45.00     1.803291\n",
       "            ...   \n",
       "351.00    0.007514\n",
       "54.10     0.007514\n",
       "80.64     0.007514\n",
       "32.73     0.007514\n",
       "488.00    0.007514\n",
       "Name: price, Length: 1994, dtype: float64"
      ]
     },
     "execution_count": 73,
     "metadata": {},
     "output_type": "execute_result"
    }
   ],
   "source": [
    "# checking for data distribution\n",
    "df['price'].value_counts() / len(df) *100"
   ]
  },
  {
   "cell_type": "code",
   "execution_count": 74,
   "id": "98e01040",
   "metadata": {},
   "outputs": [
    {
     "name": "stderr",
     "output_type": "stream",
     "text": [
      "C:\\Users\\shubh\\anaconda3\\envs\\pune_house\\lib\\site-packages\\seaborn\\_decorators.py:36: FutureWarning: Pass the following variable as a keyword arg: x. From version 0.12, the only valid positional argument will be `data`, and passing other arguments without an explicit keyword will result in an error or misinterpretation.\n",
      "  warnings.warn(\n"
     ]
    },
    {
     "data": {
      "text/plain": [
       "<AxesSubplot:xlabel='price'>"
      ]
     },
     "execution_count": 74,
     "metadata": {},
     "output_type": "execute_result"
    }
   ],
   "source": [
    "sb.boxplot(df['price'])"
   ]
  },
  {
   "cell_type": "code",
   "execution_count": 75,
   "id": "c4551d58",
   "metadata": {},
   "outputs": [
    {
     "name": "stdout",
     "output_type": "stream",
     "text": [
      "[ 39.07 120.    62.   ...  40.14 231.   488.  ]\n",
      "1994\n",
      "0\n",
      "float64\n"
     ]
    }
   ],
   "source": [
    "print(df['price'].unique())\n",
    "print(df['price'].nunique())\n",
    "print(df['price'].isna().sum())\n",
    "print(df['price'].dtype)"
   ]
  },
  {
   "cell_type": "code",
   "execution_count": 76,
   "id": "deef1d82",
   "metadata": {},
   "outputs": [
    {
     "data": {
      "text/plain": [
       "Index(['area_type', 'availability', 'size', 'society', 'total_sqft', 'bath',\n",
       "       'balcony', 'price', 'site_location', 'sz', 'sqft1', 'location'],\n",
       "      dtype='object')"
      ]
     },
     "execution_count": 76,
     "metadata": {},
     "output_type": "execute_result"
    }
   ],
   "source": [
    "df.columns"
   ]
  },
  {
   "cell_type": "code",
   "execution_count": 77,
   "id": "059eec68",
   "metadata": {},
   "outputs": [
    {
     "data": {
      "text/html": [
       "<div>\n",
       "<style scoped>\n",
       "    .dataframe tbody tr th:only-of-type {\n",
       "        vertical-align: middle;\n",
       "    }\n",
       "\n",
       "    .dataframe tbody tr th {\n",
       "        vertical-align: top;\n",
       "    }\n",
       "\n",
       "    .dataframe thead th {\n",
       "        text-align: right;\n",
       "    }\n",
       "</style>\n",
       "<table border=\"1\" class=\"dataframe\">\n",
       "  <thead>\n",
       "    <tr style=\"text-align: right;\">\n",
       "      <th></th>\n",
       "      <th>area_type</th>\n",
       "      <th>availability</th>\n",
       "      <th>size</th>\n",
       "      <th>society</th>\n",
       "      <th>total_sqft</th>\n",
       "      <th>bath</th>\n",
       "      <th>balcony</th>\n",
       "      <th>price</th>\n",
       "      <th>site_location</th>\n",
       "      <th>sz</th>\n",
       "      <th>sqft1</th>\n",
       "      <th>location</th>\n",
       "    </tr>\n",
       "  </thead>\n",
       "  <tbody>\n",
       "    <tr>\n",
       "      <th>0</th>\n",
       "      <td>4</td>\n",
       "      <td>19-Dec</td>\n",
       "      <td>2 BHK</td>\n",
       "      <td>Coomee</td>\n",
       "      <td>1056</td>\n",
       "      <td>2.0</td>\n",
       "      <td>1.0</td>\n",
       "      <td>39.07</td>\n",
       "      <td>Alandi Road</td>\n",
       "      <td>2.0</td>\n",
       "      <td>1056.0</td>\n",
       "      <td>0</td>\n",
       "    </tr>\n",
       "    <tr>\n",
       "      <th>1</th>\n",
       "      <td>1</td>\n",
       "      <td>Ready To Move</td>\n",
       "      <td>4 Bedroom</td>\n",
       "      <td>Theanmp</td>\n",
       "      <td>2600</td>\n",
       "      <td>5.0</td>\n",
       "      <td>3.0</td>\n",
       "      <td>120.00</td>\n",
       "      <td>Ambegaon Budruk</td>\n",
       "      <td>4.0</td>\n",
       "      <td>2600.0</td>\n",
       "      <td>1</td>\n",
       "    </tr>\n",
       "  </tbody>\n",
       "</table>\n",
       "</div>"
      ],
      "text/plain": [
       "   area_type   availability       size  society total_sqft  bath  balcony  \\\n",
       "0          4         19-Dec      2 BHK  Coomee        1056   2.0      1.0   \n",
       "1          1  Ready To Move  4 Bedroom  Theanmp       2600   5.0      3.0   \n",
       "\n",
       "    price    site_location   sz   sqft1  location  \n",
       "0   39.07      Alandi Road  2.0  1056.0         0  \n",
       "1  120.00  Ambegaon Budruk  4.0  2600.0         1  "
      ]
     },
     "execution_count": 77,
     "metadata": {},
     "output_type": "execute_result"
    }
   ],
   "source": [
    "df.head(2)"
   ]
  },
  {
   "cell_type": "code",
   "execution_count": 78,
   "id": "d99a1a31",
   "metadata": {},
   "outputs": [],
   "source": [
    "# data splitting\n",
    "x=df.drop(['availability', 'size', 'society', 'total_sqft', 'price', 'site_location'],axis=1)\n",
    "y=df['price']"
   ]
  },
  {
   "cell_type": "code",
   "execution_count": 79,
   "id": "20943d51",
   "metadata": {},
   "outputs": [
    {
     "data": {
      "text/html": [
       "<div>\n",
       "<style scoped>\n",
       "    .dataframe tbody tr th:only-of-type {\n",
       "        vertical-align: middle;\n",
       "    }\n",
       "\n",
       "    .dataframe tbody tr th {\n",
       "        vertical-align: top;\n",
       "    }\n",
       "\n",
       "    .dataframe thead th {\n",
       "        text-align: right;\n",
       "    }\n",
       "</style>\n",
       "<table border=\"1\" class=\"dataframe\">\n",
       "  <thead>\n",
       "    <tr style=\"text-align: right;\">\n",
       "      <th></th>\n",
       "      <th>area_type</th>\n",
       "      <th>bath</th>\n",
       "      <th>balcony</th>\n",
       "      <th>price</th>\n",
       "      <th>sz</th>\n",
       "      <th>sqft1</th>\n",
       "      <th>location</th>\n",
       "    </tr>\n",
       "  </thead>\n",
       "  <tbody>\n",
       "    <tr>\n",
       "      <th>area_type</th>\n",
       "      <td>1.000000</td>\n",
       "      <td>-0.371608</td>\n",
       "      <td>0.117520</td>\n",
       "      <td>-0.262386</td>\n",
       "      <td>-0.406627</td>\n",
       "      <td>-0.000060</td>\n",
       "      <td>0.016543</td>\n",
       "    </tr>\n",
       "    <tr>\n",
       "      <th>bath</th>\n",
       "      <td>-0.371608</td>\n",
       "      <td>1.000000</td>\n",
       "      <td>0.182694</td>\n",
       "      <td>0.455321</td>\n",
       "      <td>0.897049</td>\n",
       "      <td>0.000672</td>\n",
       "      <td>-0.012579</td>\n",
       "    </tr>\n",
       "    <tr>\n",
       "      <th>balcony</th>\n",
       "      <td>0.117520</td>\n",
       "      <td>0.182694</td>\n",
       "      <td>1.000000</td>\n",
       "      <td>0.103908</td>\n",
       "      <td>0.170217</td>\n",
       "      <td>0.008126</td>\n",
       "      <td>-0.003867</td>\n",
       "    </tr>\n",
       "    <tr>\n",
       "      <th>price</th>\n",
       "      <td>-0.262386</td>\n",
       "      <td>0.455321</td>\n",
       "      <td>0.103908</td>\n",
       "      <td>1.000000</td>\n",
       "      <td>0.398020</td>\n",
       "      <td>-0.003796</td>\n",
       "      <td>-0.018414</td>\n",
       "    </tr>\n",
       "    <tr>\n",
       "      <th>sz</th>\n",
       "      <td>-0.406627</td>\n",
       "      <td>0.897049</td>\n",
       "      <td>0.170217</td>\n",
       "      <td>0.398020</td>\n",
       "      <td>1.000000</td>\n",
       "      <td>0.000621</td>\n",
       "      <td>-0.014302</td>\n",
       "    </tr>\n",
       "    <tr>\n",
       "      <th>sqft1</th>\n",
       "      <td>-0.000060</td>\n",
       "      <td>0.000672</td>\n",
       "      <td>0.008126</td>\n",
       "      <td>-0.003796</td>\n",
       "      <td>0.000621</td>\n",
       "      <td>1.000000</td>\n",
       "      <td>0.010719</td>\n",
       "    </tr>\n",
       "    <tr>\n",
       "      <th>location</th>\n",
       "      <td>0.016543</td>\n",
       "      <td>-0.012579</td>\n",
       "      <td>-0.003867</td>\n",
       "      <td>-0.018414</td>\n",
       "      <td>-0.014302</td>\n",
       "      <td>0.010719</td>\n",
       "      <td>1.000000</td>\n",
       "    </tr>\n",
       "  </tbody>\n",
       "</table>\n",
       "</div>"
      ],
      "text/plain": [
       "           area_type      bath   balcony     price        sz     sqft1  \\\n",
       "area_type   1.000000 -0.371608  0.117520 -0.262386 -0.406627 -0.000060   \n",
       "bath       -0.371608  1.000000  0.182694  0.455321  0.897049  0.000672   \n",
       "balcony     0.117520  0.182694  1.000000  0.103908  0.170217  0.008126   \n",
       "price      -0.262386  0.455321  0.103908  1.000000  0.398020 -0.003796   \n",
       "sz         -0.406627  0.897049  0.170217  0.398020  1.000000  0.000621   \n",
       "sqft1      -0.000060  0.000672  0.008126 -0.003796  0.000621  1.000000   \n",
       "location    0.016543 -0.012579 -0.003867 -0.018414 -0.014302  0.010719   \n",
       "\n",
       "           location  \n",
       "area_type  0.016543  \n",
       "bath      -0.012579  \n",
       "balcony   -0.003867  \n",
       "price     -0.018414  \n",
       "sz        -0.014302  \n",
       "sqft1      0.010719  \n",
       "location   1.000000  "
      ]
     },
     "execution_count": 79,
     "metadata": {},
     "output_type": "execute_result"
    }
   ],
   "source": [
    "df.corr()"
   ]
  },
  {
   "cell_type": "code",
   "execution_count": 80,
   "id": "bc549fdf",
   "metadata": {},
   "outputs": [
    {
     "data": {
      "text/plain": [
       "<AxesSubplot:>"
      ]
     },
     "execution_count": 80,
     "metadata": {},
     "output_type": "execute_result"
    }
   ],
   "source": [
    "sb.heatmap(df.corr(),annot=True)\n"
   ]
  },
  {
   "cell_type": "code",
   "execution_count": 81,
   "id": "b58a530d",
   "metadata": {},
   "outputs": [
    {
     "name": "stdout",
     "output_type": "stream",
     "text": [
      "(9316, 6)\n",
      "(3993, 6)\n",
      "(9316,)\n",
      "(3993,)\n"
     ]
    }
   ],
   "source": [
    "x_train,x_test,y_train,y_test=train_test_split(x,y,test_size=0.30,random_state=5)\n",
    "print(x_train.shape)\n",
    "print(x_test.shape)\n",
    "print(y_train.shape)\n",
    "print(y_test.shape)"
   ]
  },
  {
   "cell_type": "markdown",
   "id": "957cb11a",
   "metadata": {},
   "source": [
    "### step6: Model Traning"
   ]
  },
  {
   "cell_type": "code",
   "execution_count": 82,
   "id": "0ff3d4f0",
   "metadata": {},
   "outputs": [
    {
     "data": {
      "text/html": [
       "<style>#sk-container-id-1 {color: black;background-color: white;}#sk-container-id-1 pre{padding: 0;}#sk-container-id-1 div.sk-toggleable {background-color: white;}#sk-container-id-1 label.sk-toggleable__label {cursor: pointer;display: block;width: 100%;margin-bottom: 0;padding: 0.3em;box-sizing: border-box;text-align: center;}#sk-container-id-1 label.sk-toggleable__label-arrow:before {content: \"▸\";float: left;margin-right: 0.25em;color: #696969;}#sk-container-id-1 label.sk-toggleable__label-arrow:hover:before {color: black;}#sk-container-id-1 div.sk-estimator:hover label.sk-toggleable__label-arrow:before {color: black;}#sk-container-id-1 div.sk-toggleable__content {max-height: 0;max-width: 0;overflow: hidden;text-align: left;background-color: #f0f8ff;}#sk-container-id-1 div.sk-toggleable__content pre {margin: 0.2em;color: black;border-radius: 0.25em;background-color: #f0f8ff;}#sk-container-id-1 input.sk-toggleable__control:checked~div.sk-toggleable__content {max-height: 200px;max-width: 100%;overflow: auto;}#sk-container-id-1 input.sk-toggleable__control:checked~label.sk-toggleable__label-arrow:before {content: \"▾\";}#sk-container-id-1 div.sk-estimator input.sk-toggleable__control:checked~label.sk-toggleable__label {background-color: #d4ebff;}#sk-container-id-1 div.sk-label input.sk-toggleable__control:checked~label.sk-toggleable__label {background-color: #d4ebff;}#sk-container-id-1 input.sk-hidden--visually {border: 0;clip: rect(1px 1px 1px 1px);clip: rect(1px, 1px, 1px, 1px);height: 1px;margin: -1px;overflow: hidden;padding: 0;position: absolute;width: 1px;}#sk-container-id-1 div.sk-estimator {font-family: monospace;background-color: #f0f8ff;border: 1px dotted black;border-radius: 0.25em;box-sizing: border-box;margin-bottom: 0.5em;}#sk-container-id-1 div.sk-estimator:hover {background-color: #d4ebff;}#sk-container-id-1 div.sk-parallel-item::after {content: \"\";width: 100%;border-bottom: 1px solid gray;flex-grow: 1;}#sk-container-id-1 div.sk-label:hover label.sk-toggleable__label {background-color: #d4ebff;}#sk-container-id-1 div.sk-serial::before {content: \"\";position: absolute;border-left: 1px solid gray;box-sizing: border-box;top: 0;bottom: 0;left: 50%;z-index: 0;}#sk-container-id-1 div.sk-serial {display: flex;flex-direction: column;align-items: center;background-color: white;padding-right: 0.2em;padding-left: 0.2em;position: relative;}#sk-container-id-1 div.sk-item {position: relative;z-index: 1;}#sk-container-id-1 div.sk-parallel {display: flex;align-items: stretch;justify-content: center;background-color: white;position: relative;}#sk-container-id-1 div.sk-item::before, #sk-container-id-1 div.sk-parallel-item::before {content: \"\";position: absolute;border-left: 1px solid gray;box-sizing: border-box;top: 0;bottom: 0;left: 50%;z-index: -1;}#sk-container-id-1 div.sk-parallel-item {display: flex;flex-direction: column;z-index: 1;position: relative;background-color: white;}#sk-container-id-1 div.sk-parallel-item:first-child::after {align-self: flex-end;width: 50%;}#sk-container-id-1 div.sk-parallel-item:last-child::after {align-self: flex-start;width: 50%;}#sk-container-id-1 div.sk-parallel-item:only-child::after {width: 0;}#sk-container-id-1 div.sk-dashed-wrapped {border: 1px dashed gray;margin: 0 0.4em 0.5em 0.4em;box-sizing: border-box;padding-bottom: 0.4em;background-color: white;}#sk-container-id-1 div.sk-label label {font-family: monospace;font-weight: bold;display: inline-block;line-height: 1.2em;}#sk-container-id-1 div.sk-label-container {text-align: center;}#sk-container-id-1 div.sk-container {/* jupyter's `normalize.less` sets `[hidden] { display: none; }` but bootstrap.min.css set `[hidden] { display: none !important; }` so we also need the `!important` here to be able to override the default hidden behavior on the sphinx rendered scikit-learn.org. See: https://github.com/scikit-learn/scikit-learn/issues/21755 */display: inline-block !important;position: relative;}#sk-container-id-1 div.sk-text-repr-fallback {display: none;}</style><div id=\"sk-container-id-1\" class=\"sk-top-container\"><div class=\"sk-text-repr-fallback\"><pre>LinearRegression()</pre><b>In a Jupyter environment, please rerun this cell to show the HTML representation or trust the notebook. <br />On GitHub, the HTML representation is unable to render, please try loading this page with nbviewer.org.</b></div><div class=\"sk-container\" hidden><div class=\"sk-item\"><div class=\"sk-estimator sk-toggleable\"><input class=\"sk-toggleable__control sk-hidden--visually\" id=\"sk-estimator-id-1\" type=\"checkbox\" checked><label for=\"sk-estimator-id-1\" class=\"sk-toggleable__label sk-toggleable__label-arrow\">LinearRegression</label><div class=\"sk-toggleable__content\"><pre>LinearRegression()</pre></div></div></div></div></div>"
      ],
      "text/plain": [
       "LinearRegression()"
      ]
     },
     "execution_count": 82,
     "metadata": {},
     "output_type": "execute_result"
    }
   ],
   "source": [
    "LR=LinearRegression()\n",
    "LR.fit(x_train,y_train)"
   ]
  },
  {
   "cell_type": "markdown",
   "id": "3b397bf6",
   "metadata": {},
   "source": [
    "### step7: Model Evalution"
   ]
  },
  {
   "cell_type": "code",
   "execution_count": 83,
   "id": "6ec926ab",
   "metadata": {},
   "outputs": [
    {
     "name": "stdout",
     "output_type": "stream",
     "text": [
      "6571      85.00\n",
      "11300     60.00\n",
      "6620      82.00\n",
      "3657      39.00\n",
      "2446      79.00\n",
      "12735     70.00\n",
      "9346      70.00\n",
      "10452     76.00\n",
      "2995     130.00\n",
      "4780     180.00\n",
      "9338      61.45\n",
      "9780      67.00\n",
      "10585     31.99\n",
      "12800     86.00\n",
      "10289     44.00\n",
      "Name: price, dtype: float64\n",
      "[ 77.86787255 108.99988183 125.56226972 123.49029345  67.07137244\n",
      " 129.95808644 130.86159875  63.16297235 113.93544879 171.9694278\n",
      "  56.04987922  51.14655617  68.74965111 120.37560631  77.79122588]\n"
     ]
    }
   ],
   "source": [
    "# training data evalution\n",
    "y_train_predict=LR.predict(x_train)\n",
    "print(y_train[360:375])\n",
    "print(y_train_predict[360:375])"
   ]
  },
  {
   "cell_type": "code",
   "execution_count": 84,
   "id": "fbcae54a",
   "metadata": {},
   "outputs": [
    {
     "name": "stdout",
     "output_type": "stream",
     "text": [
      "mean_squared_error=16300.51063374803\n",
      "root of mean_squared_error=127.67345312847158\n",
      "mean_absolute_error=54.80122705659102\n",
      "r2_score=0.22852832233434672\n"
     ]
    }
   ],
   "source": [
    "def mod_eval(actual,predict):\n",
    "    \n",
    "    MSE=mean_squared_error(actual,predict)\n",
    "    MAE=mean_absolute_error(actual,predict)\n",
    "    r2=r2_score(actual,predict)\n",
    "\n",
    "    print(f'mean_squared_error={MSE}')\n",
    "    print(f'root of mean_squared_error={np.sqrt(MSE)}')\n",
    "\n",
    "    print(f'mean_absolute_error={MAE}')\n",
    "\n",
    "    print(f'r2_score={r2}')\n",
    "    \n",
    "mod_eval(y_train,y_train_predict)"
   ]
  },
  {
   "cell_type": "code",
   "execution_count": 85,
   "id": "08e2680c",
   "metadata": {},
   "outputs": [
    {
     "name": "stdout",
     "output_type": "stream",
     "text": [
      "1037      50.000\n",
      "8456      95.000\n",
      "12161     35.475\n",
      "6723     123.000\n",
      "12942     78.000\n",
      "3133     140.000\n",
      "5848      32.150\n",
      "6648     114.000\n",
      "8006      95.000\n",
      "10346     60.000\n",
      "Name: price, dtype: float64\n",
      "[ 63.83052681 118.12637839  10.5879636  113.12725246 145.84384321\n",
      "  63.97709893  10.11859638 110.37500558 207.02318582  74.74647012]\n"
     ]
    }
   ],
   "source": [
    "# testing data evalution\n",
    "y_test_predict=LR.predict(x_test)\n",
    "print(y_test[475:485])\n",
    "print(y_test_predict[475:485])"
   ]
  },
  {
   "cell_type": "code",
   "execution_count": 86,
   "id": "04e03459",
   "metadata": {},
   "outputs": [
    {
     "name": "stdout",
     "output_type": "stream",
     "text": [
      "mean_squared_error=19613.3280808121\n",
      "root of mean_squared_error=140.0475921992667\n",
      "mean_absolute_error=58.31914738453138\n",
      "r2_score=0.20624623388805896\n"
     ]
    }
   ],
   "source": [
    "mod_eval(y_test,y_test_predict)"
   ]
  },
  {
   "cell_type": "code",
   "execution_count": 87,
   "id": "f30550b3",
   "metadata": {},
   "outputs": [
    {
     "data": {
      "text/plain": [
       "0.22852832233434672"
      ]
     },
     "execution_count": 87,
     "metadata": {},
     "output_type": "execute_result"
    }
   ],
   "source": [
    "score=LR.score(x_train,y_train)\n",
    "score"
   ]
  },
  {
   "cell_type": "code",
   "execution_count": 88,
   "id": "501c036a",
   "metadata": {},
   "outputs": [
    {
     "data": {
      "text/plain": [
       "0.20624623388805896"
      ]
     },
     "execution_count": 88,
     "metadata": {},
     "output_type": "execute_result"
    }
   ],
   "source": [
    "score=LR.score(x_test,y_test)\n",
    "score"
   ]
  },
  {
   "cell_type": "markdown",
   "id": "e5e5c6c2",
   "metadata": {},
   "source": [
    "### By Using KNN Algorithem:-"
   ]
  },
  {
   "cell_type": "code",
   "execution_count": 89,
   "id": "9b1f39d8",
   "metadata": {},
   "outputs": [],
   "source": [
    "from sklearn.neighbors import KNeighborsRegressor\n",
    "from sklearn.preprocessing import MinMaxScaler,StandardScaler"
   ]
  },
  {
   "cell_type": "code",
   "execution_count": 90,
   "id": "194d0338",
   "metadata": {},
   "outputs": [
    {
     "data": {
      "text/html": [
       "<div>\n",
       "<style scoped>\n",
       "    .dataframe tbody tr th:only-of-type {\n",
       "        vertical-align: middle;\n",
       "    }\n",
       "\n",
       "    .dataframe tbody tr th {\n",
       "        vertical-align: top;\n",
       "    }\n",
       "\n",
       "    .dataframe thead th {\n",
       "        text-align: right;\n",
       "    }\n",
       "</style>\n",
       "<table border=\"1\" class=\"dataframe\">\n",
       "  <thead>\n",
       "    <tr style=\"text-align: right;\">\n",
       "      <th></th>\n",
       "      <th>area_type</th>\n",
       "      <th>bath</th>\n",
       "      <th>balcony</th>\n",
       "      <th>sz</th>\n",
       "      <th>sqft1</th>\n",
       "      <th>location</th>\n",
       "    </tr>\n",
       "  </thead>\n",
       "  <tbody>\n",
       "    <tr>\n",
       "      <th>0</th>\n",
       "      <td>4</td>\n",
       "      <td>2.0</td>\n",
       "      <td>1.000000</td>\n",
       "      <td>2.0</td>\n",
       "      <td>1056.000000</td>\n",
       "      <td>0</td>\n",
       "    </tr>\n",
       "    <tr>\n",
       "      <th>1</th>\n",
       "      <td>1</td>\n",
       "      <td>5.0</td>\n",
       "      <td>3.000000</td>\n",
       "      <td>4.0</td>\n",
       "      <td>2600.000000</td>\n",
       "      <td>1</td>\n",
       "    </tr>\n",
       "    <tr>\n",
       "      <th>2</th>\n",
       "      <td>3</td>\n",
       "      <td>2.0</td>\n",
       "      <td>3.000000</td>\n",
       "      <td>3.0</td>\n",
       "      <td>1440.000000</td>\n",
       "      <td>2</td>\n",
       "    </tr>\n",
       "    <tr>\n",
       "      <th>3</th>\n",
       "      <td>4</td>\n",
       "      <td>3.0</td>\n",
       "      <td>1.000000</td>\n",
       "      <td>3.0</td>\n",
       "      <td>1521.000000</td>\n",
       "      <td>3</td>\n",
       "    </tr>\n",
       "    <tr>\n",
       "      <th>4</th>\n",
       "      <td>4</td>\n",
       "      <td>2.0</td>\n",
       "      <td>1.000000</td>\n",
       "      <td>2.0</td>\n",
       "      <td>1200.000000</td>\n",
       "      <td>4</td>\n",
       "    </tr>\n",
       "    <tr>\n",
       "      <th>...</th>\n",
       "      <td>...</td>\n",
       "      <td>...</td>\n",
       "      <td>...</td>\n",
       "      <td>...</td>\n",
       "      <td>...</td>\n",
       "      <td>...</td>\n",
       "    </tr>\n",
       "    <tr>\n",
       "      <th>13315</th>\n",
       "      <td>3</td>\n",
       "      <td>4.0</td>\n",
       "      <td>0.000000</td>\n",
       "      <td>5.0</td>\n",
       "      <td>1519.534282</td>\n",
       "      <td>66</td>\n",
       "    </tr>\n",
       "    <tr>\n",
       "      <th>13316</th>\n",
       "      <td>4</td>\n",
       "      <td>5.0</td>\n",
       "      <td>1.584488</td>\n",
       "      <td>4.0</td>\n",
       "      <td>1519.534282</td>\n",
       "      <td>67</td>\n",
       "    </tr>\n",
       "    <tr>\n",
       "      <th>13317</th>\n",
       "      <td>3</td>\n",
       "      <td>2.0</td>\n",
       "      <td>1.000000</td>\n",
       "      <td>2.0</td>\n",
       "      <td>1519.534282</td>\n",
       "      <td>68</td>\n",
       "    </tr>\n",
       "    <tr>\n",
       "      <th>13318</th>\n",
       "      <td>4</td>\n",
       "      <td>4.0</td>\n",
       "      <td>1.000000</td>\n",
       "      <td>4.0</td>\n",
       "      <td>1519.534282</td>\n",
       "      <td>69</td>\n",
       "    </tr>\n",
       "    <tr>\n",
       "      <th>13319</th>\n",
       "      <td>4</td>\n",
       "      <td>1.0</td>\n",
       "      <td>1.000000</td>\n",
       "      <td>1.0</td>\n",
       "      <td>1519.534282</td>\n",
       "      <td>70</td>\n",
       "    </tr>\n",
       "  </tbody>\n",
       "</table>\n",
       "<p>13309 rows × 6 columns</p>\n",
       "</div>"
      ],
      "text/plain": [
       "       area_type  bath   balcony   sz        sqft1  location\n",
       "0              4   2.0  1.000000  2.0  1056.000000         0\n",
       "1              1   5.0  3.000000  4.0  2600.000000         1\n",
       "2              3   2.0  3.000000  3.0  1440.000000         2\n",
       "3              4   3.0  1.000000  3.0  1521.000000         3\n",
       "4              4   2.0  1.000000  2.0  1200.000000         4\n",
       "...          ...   ...       ...  ...          ...       ...\n",
       "13315          3   4.0  0.000000  5.0  1519.534282        66\n",
       "13316          4   5.0  1.584488  4.0  1519.534282        67\n",
       "13317          3   2.0  1.000000  2.0  1519.534282        68\n",
       "13318          4   4.0  1.000000  4.0  1519.534282        69\n",
       "13319          4   1.0  1.000000  1.0  1519.534282        70\n",
       "\n",
       "[13309 rows x 6 columns]"
      ]
     },
     "execution_count": 90,
     "metadata": {},
     "output_type": "execute_result"
    }
   ],
   "source": [
    "x"
   ]
  },
  {
   "cell_type": "code",
   "execution_count": 91,
   "id": "ea8751db",
   "metadata": {},
   "outputs": [
    {
     "data": {
      "text/plain": [
       "array([[1.        , 0.02564103, 0.33333333, 0.02380952, 0.10990728,\n",
       "        0.        ],\n",
       "       [0.        , 0.1025641 , 1.        , 0.07142857, 0.27075737,\n",
       "        0.01030928],\n",
       "       [0.66666667, 0.02564103, 1.        , 0.04761905, 0.14991145,\n",
       "        0.02061856],\n",
       "       ...,\n",
       "       [0.66666667, 0.02564103, 0.33333333, 0.02380952, 0.15819713,\n",
       "        0.70103093],\n",
       "       [1.        , 0.07692308, 0.33333333, 0.07142857, 0.15819713,\n",
       "        0.71134021],\n",
       "       [1.        , 0.        , 0.33333333, 0.        , 0.15819713,\n",
       "        0.72164948]])"
      ]
     },
     "execution_count": 91,
     "metadata": {},
     "output_type": "execute_result"
    }
   ],
   "source": [
    "norm= MinMaxScaler()\n",
    "norm_x=norm.fit_transform(x)\n",
    "norm_x"
   ]
  },
  {
   "cell_type": "code",
   "execution_count": 92,
   "id": "f116a4bd",
   "metadata": {},
   "outputs": [
    {
     "name": "stdout",
     "output_type": "stream",
     "text": [
      "(9316, 6)\n",
      "(3993, 6)\n",
      "(9316,)\n",
      "(3993,)\n"
     ]
    }
   ],
   "source": [
    "# data split\n",
    "x_train,x_test,y_train,y_test= train_test_split(norm_x,y,train_size=0.7,random_state=7)\n",
    "print(x_train.shape)\n",
    "print(x_test.shape)\n",
    "print(y_train.shape)\n",
    "print(y_test.shape)"
   ]
  },
  {
   "cell_type": "code",
   "execution_count": 93,
   "id": "1d4dfa3e",
   "metadata": {},
   "outputs": [
    {
     "data": {
      "text/html": [
       "<style>#sk-container-id-2 {color: black;background-color: white;}#sk-container-id-2 pre{padding: 0;}#sk-container-id-2 div.sk-toggleable {background-color: white;}#sk-container-id-2 label.sk-toggleable__label {cursor: pointer;display: block;width: 100%;margin-bottom: 0;padding: 0.3em;box-sizing: border-box;text-align: center;}#sk-container-id-2 label.sk-toggleable__label-arrow:before {content: \"▸\";float: left;margin-right: 0.25em;color: #696969;}#sk-container-id-2 label.sk-toggleable__label-arrow:hover:before {color: black;}#sk-container-id-2 div.sk-estimator:hover label.sk-toggleable__label-arrow:before {color: black;}#sk-container-id-2 div.sk-toggleable__content {max-height: 0;max-width: 0;overflow: hidden;text-align: left;background-color: #f0f8ff;}#sk-container-id-2 div.sk-toggleable__content pre {margin: 0.2em;color: black;border-radius: 0.25em;background-color: #f0f8ff;}#sk-container-id-2 input.sk-toggleable__control:checked~div.sk-toggleable__content {max-height: 200px;max-width: 100%;overflow: auto;}#sk-container-id-2 input.sk-toggleable__control:checked~label.sk-toggleable__label-arrow:before {content: \"▾\";}#sk-container-id-2 div.sk-estimator input.sk-toggleable__control:checked~label.sk-toggleable__label {background-color: #d4ebff;}#sk-container-id-2 div.sk-label input.sk-toggleable__control:checked~label.sk-toggleable__label {background-color: #d4ebff;}#sk-container-id-2 input.sk-hidden--visually {border: 0;clip: rect(1px 1px 1px 1px);clip: rect(1px, 1px, 1px, 1px);height: 1px;margin: -1px;overflow: hidden;padding: 0;position: absolute;width: 1px;}#sk-container-id-2 div.sk-estimator {font-family: monospace;background-color: #f0f8ff;border: 1px dotted black;border-radius: 0.25em;box-sizing: border-box;margin-bottom: 0.5em;}#sk-container-id-2 div.sk-estimator:hover {background-color: #d4ebff;}#sk-container-id-2 div.sk-parallel-item::after {content: \"\";width: 100%;border-bottom: 1px solid gray;flex-grow: 1;}#sk-container-id-2 div.sk-label:hover label.sk-toggleable__label {background-color: #d4ebff;}#sk-container-id-2 div.sk-serial::before {content: \"\";position: absolute;border-left: 1px solid gray;box-sizing: border-box;top: 0;bottom: 0;left: 50%;z-index: 0;}#sk-container-id-2 div.sk-serial {display: flex;flex-direction: column;align-items: center;background-color: white;padding-right: 0.2em;padding-left: 0.2em;position: relative;}#sk-container-id-2 div.sk-item {position: relative;z-index: 1;}#sk-container-id-2 div.sk-parallel {display: flex;align-items: stretch;justify-content: center;background-color: white;position: relative;}#sk-container-id-2 div.sk-item::before, #sk-container-id-2 div.sk-parallel-item::before {content: \"\";position: absolute;border-left: 1px solid gray;box-sizing: border-box;top: 0;bottom: 0;left: 50%;z-index: -1;}#sk-container-id-2 div.sk-parallel-item {display: flex;flex-direction: column;z-index: 1;position: relative;background-color: white;}#sk-container-id-2 div.sk-parallel-item:first-child::after {align-self: flex-end;width: 50%;}#sk-container-id-2 div.sk-parallel-item:last-child::after {align-self: flex-start;width: 50%;}#sk-container-id-2 div.sk-parallel-item:only-child::after {width: 0;}#sk-container-id-2 div.sk-dashed-wrapped {border: 1px dashed gray;margin: 0 0.4em 0.5em 0.4em;box-sizing: border-box;padding-bottom: 0.4em;background-color: white;}#sk-container-id-2 div.sk-label label {font-family: monospace;font-weight: bold;display: inline-block;line-height: 1.2em;}#sk-container-id-2 div.sk-label-container {text-align: center;}#sk-container-id-2 div.sk-container {/* jupyter's `normalize.less` sets `[hidden] { display: none; }` but bootstrap.min.css set `[hidden] { display: none !important; }` so we also need the `!important` here to be able to override the default hidden behavior on the sphinx rendered scikit-learn.org. See: https://github.com/scikit-learn/scikit-learn/issues/21755 */display: inline-block !important;position: relative;}#sk-container-id-2 div.sk-text-repr-fallback {display: none;}</style><div id=\"sk-container-id-2\" class=\"sk-top-container\"><div class=\"sk-text-repr-fallback\"><pre>KNeighborsRegressor()</pre><b>In a Jupyter environment, please rerun this cell to show the HTML representation or trust the notebook. <br />On GitHub, the HTML representation is unable to render, please try loading this page with nbviewer.org.</b></div><div class=\"sk-container\" hidden><div class=\"sk-item\"><div class=\"sk-estimator sk-toggleable\"><input class=\"sk-toggleable__control sk-hidden--visually\" id=\"sk-estimator-id-2\" type=\"checkbox\" checked><label for=\"sk-estimator-id-2\" class=\"sk-toggleable__label sk-toggleable__label-arrow\">KNeighborsRegressor</label><div class=\"sk-toggleable__content\"><pre>KNeighborsRegressor()</pre></div></div></div></div></div>"
      ],
      "text/plain": [
       "KNeighborsRegressor()"
      ]
     },
     "execution_count": 93,
     "metadata": {},
     "output_type": "execute_result"
    }
   ],
   "source": [
    "#Model Traning:\n",
    "knn_model=KNeighborsRegressor()\n",
    "knn_model.fit(x_train,y_train)\n"
   ]
  },
  {
   "cell_type": "code",
   "execution_count": 94,
   "id": "bb373801",
   "metadata": {},
   "outputs": [
    {
     "name": "stdout",
     "output_type": "stream",
     "text": [
      "mean_squared_error=19506.24653711971\n",
      "root of mean_squared_error=139.6647648375198\n",
      "mean_absolute_error=59.1715269221137\n",
      "r2_score=0.05886697139209929\n"
     ]
    }
   ],
   "source": [
    "#Model Evalution\n",
    "#testing data Evalution\n",
    "y_test_predict=knn_model.predict(x_test)\n",
    "mod_eval(y_test,y_test_predict)"
   ]
  },
  {
   "cell_type": "code",
   "execution_count": 95,
   "id": "563839a2",
   "metadata": {},
   "outputs": [
    {
     "name": "stdout",
     "output_type": "stream",
     "text": [
      "mean_squared_error=12500.825340029949\n",
      "root of mean_squared_error=111.8070898468874\n",
      "mean_absolute_error=47.27946768999571\n",
      "r2_score=0.45265329753839045\n"
     ]
    }
   ],
   "source": [
    "#traning data Evalution\n",
    "y_train_predict=knn_model.predict(x_train)\n",
    "mod_eval(y_train,y_train_predict)"
   ]
  },
  {
   "cell_type": "code",
   "execution_count": 96,
   "id": "e392d6a9",
   "metadata": {},
   "outputs": [
    {
     "data": {
      "text/html": [
       "<style>#sk-container-id-3 {color: black;background-color: white;}#sk-container-id-3 pre{padding: 0;}#sk-container-id-3 div.sk-toggleable {background-color: white;}#sk-container-id-3 label.sk-toggleable__label {cursor: pointer;display: block;width: 100%;margin-bottom: 0;padding: 0.3em;box-sizing: border-box;text-align: center;}#sk-container-id-3 label.sk-toggleable__label-arrow:before {content: \"▸\";float: left;margin-right: 0.25em;color: #696969;}#sk-container-id-3 label.sk-toggleable__label-arrow:hover:before {color: black;}#sk-container-id-3 div.sk-estimator:hover label.sk-toggleable__label-arrow:before {color: black;}#sk-container-id-3 div.sk-toggleable__content {max-height: 0;max-width: 0;overflow: hidden;text-align: left;background-color: #f0f8ff;}#sk-container-id-3 div.sk-toggleable__content pre {margin: 0.2em;color: black;border-radius: 0.25em;background-color: #f0f8ff;}#sk-container-id-3 input.sk-toggleable__control:checked~div.sk-toggleable__content {max-height: 200px;max-width: 100%;overflow: auto;}#sk-container-id-3 input.sk-toggleable__control:checked~label.sk-toggleable__label-arrow:before {content: \"▾\";}#sk-container-id-3 div.sk-estimator input.sk-toggleable__control:checked~label.sk-toggleable__label {background-color: #d4ebff;}#sk-container-id-3 div.sk-label input.sk-toggleable__control:checked~label.sk-toggleable__label {background-color: #d4ebff;}#sk-container-id-3 input.sk-hidden--visually {border: 0;clip: rect(1px 1px 1px 1px);clip: rect(1px, 1px, 1px, 1px);height: 1px;margin: -1px;overflow: hidden;padding: 0;position: absolute;width: 1px;}#sk-container-id-3 div.sk-estimator {font-family: monospace;background-color: #f0f8ff;border: 1px dotted black;border-radius: 0.25em;box-sizing: border-box;margin-bottom: 0.5em;}#sk-container-id-3 div.sk-estimator:hover {background-color: #d4ebff;}#sk-container-id-3 div.sk-parallel-item::after {content: \"\";width: 100%;border-bottom: 1px solid gray;flex-grow: 1;}#sk-container-id-3 div.sk-label:hover label.sk-toggleable__label {background-color: #d4ebff;}#sk-container-id-3 div.sk-serial::before {content: \"\";position: absolute;border-left: 1px solid gray;box-sizing: border-box;top: 0;bottom: 0;left: 50%;z-index: 0;}#sk-container-id-3 div.sk-serial {display: flex;flex-direction: column;align-items: center;background-color: white;padding-right: 0.2em;padding-left: 0.2em;position: relative;}#sk-container-id-3 div.sk-item {position: relative;z-index: 1;}#sk-container-id-3 div.sk-parallel {display: flex;align-items: stretch;justify-content: center;background-color: white;position: relative;}#sk-container-id-3 div.sk-item::before, #sk-container-id-3 div.sk-parallel-item::before {content: \"\";position: absolute;border-left: 1px solid gray;box-sizing: border-box;top: 0;bottom: 0;left: 50%;z-index: -1;}#sk-container-id-3 div.sk-parallel-item {display: flex;flex-direction: column;z-index: 1;position: relative;background-color: white;}#sk-container-id-3 div.sk-parallel-item:first-child::after {align-self: flex-end;width: 50%;}#sk-container-id-3 div.sk-parallel-item:last-child::after {align-self: flex-start;width: 50%;}#sk-container-id-3 div.sk-parallel-item:only-child::after {width: 0;}#sk-container-id-3 div.sk-dashed-wrapped {border: 1px dashed gray;margin: 0 0.4em 0.5em 0.4em;box-sizing: border-box;padding-bottom: 0.4em;background-color: white;}#sk-container-id-3 div.sk-label label {font-family: monospace;font-weight: bold;display: inline-block;line-height: 1.2em;}#sk-container-id-3 div.sk-label-container {text-align: center;}#sk-container-id-3 div.sk-container {/* jupyter's `normalize.less` sets `[hidden] { display: none; }` but bootstrap.min.css set `[hidden] { display: none !important; }` so we also need the `!important` here to be able to override the default hidden behavior on the sphinx rendered scikit-learn.org. See: https://github.com/scikit-learn/scikit-learn/issues/21755 */display: inline-block !important;position: relative;}#sk-container-id-3 div.sk-text-repr-fallback {display: none;}</style><div id=\"sk-container-id-3\" class=\"sk-top-container\"><div class=\"sk-text-repr-fallback\"><pre>GridSearchCV(estimator=KNeighborsRegressor(),\n",
       "             param_grid={&#x27;n_neighbors&#x27;: array([ 5,  6,  7,  8,  9, 10, 11]),\n",
       "                         &#x27;p&#x27;: [1, 2]})</pre><b>In a Jupyter environment, please rerun this cell to show the HTML representation or trust the notebook. <br />On GitHub, the HTML representation is unable to render, please try loading this page with nbviewer.org.</b></div><div class=\"sk-container\" hidden><div class=\"sk-item sk-dashed-wrapped\"><div class=\"sk-label-container\"><div class=\"sk-label sk-toggleable\"><input class=\"sk-toggleable__control sk-hidden--visually\" id=\"sk-estimator-id-3\" type=\"checkbox\" ><label for=\"sk-estimator-id-3\" class=\"sk-toggleable__label sk-toggleable__label-arrow\">GridSearchCV</label><div class=\"sk-toggleable__content\"><pre>GridSearchCV(estimator=KNeighborsRegressor(),\n",
       "             param_grid={&#x27;n_neighbors&#x27;: array([ 5,  6,  7,  8,  9, 10, 11]),\n",
       "                         &#x27;p&#x27;: [1, 2]})</pre></div></div></div><div class=\"sk-parallel\"><div class=\"sk-parallel-item\"><div class=\"sk-item\"><div class=\"sk-label-container\"><div class=\"sk-label sk-toggleable\"><input class=\"sk-toggleable__control sk-hidden--visually\" id=\"sk-estimator-id-4\" type=\"checkbox\" ><label for=\"sk-estimator-id-4\" class=\"sk-toggleable__label sk-toggleable__label-arrow\">estimator: KNeighborsRegressor</label><div class=\"sk-toggleable__content\"><pre>KNeighborsRegressor()</pre></div></div></div><div class=\"sk-serial\"><div class=\"sk-item\"><div class=\"sk-estimator sk-toggleable\"><input class=\"sk-toggleable__control sk-hidden--visually\" id=\"sk-estimator-id-5\" type=\"checkbox\" ><label for=\"sk-estimator-id-5\" class=\"sk-toggleable__label sk-toggleable__label-arrow\">KNeighborsRegressor</label><div class=\"sk-toggleable__content\"><pre>KNeighborsRegressor()</pre></div></div></div></div></div></div></div></div></div></div>"
      ],
      "text/plain": [
       "GridSearchCV(estimator=KNeighborsRegressor(),\n",
       "             param_grid={'n_neighbors': array([ 5,  6,  7,  8,  9, 10, 11]),\n",
       "                         'p': [1, 2]})"
      ]
     },
     "execution_count": 96,
     "metadata": {},
     "output_type": "execute_result"
    }
   ],
   "source": [
    "# Hyperparameter tuning\n",
    "knn_hyp_model=KNeighborsRegressor()\n",
    "hyp={'n_neighbors':np.arange(5,12),\n",
    "    'p':[1,2],}\n",
    "from sklearn.model_selection import GridSearchCV\n",
    "gscv=GridSearchCV(knn_hyp_model,hyp)\n",
    "gscv.fit(x_train,y_train)\n",
    "#  n_neighbors=5,\n",
    "#     *,\n",
    "#     weights='uniform',\n",
    "#     algorithm='auto',\n",
    "#     leaf_size=30,\n",
    "#     p=2,\n",
    "#     metric='minkowski',\n",
    "#     metric_params=None,\n",
    "#     n_jobs=None,"
   ]
  },
  {
   "cell_type": "code",
   "execution_count": 97,
   "id": "bd0a988e",
   "metadata": {},
   "outputs": [
    {
     "data": {
      "text/html": [
       "<style>#sk-container-id-4 {color: black;background-color: white;}#sk-container-id-4 pre{padding: 0;}#sk-container-id-4 div.sk-toggleable {background-color: white;}#sk-container-id-4 label.sk-toggleable__label {cursor: pointer;display: block;width: 100%;margin-bottom: 0;padding: 0.3em;box-sizing: border-box;text-align: center;}#sk-container-id-4 label.sk-toggleable__label-arrow:before {content: \"▸\";float: left;margin-right: 0.25em;color: #696969;}#sk-container-id-4 label.sk-toggleable__label-arrow:hover:before {color: black;}#sk-container-id-4 div.sk-estimator:hover label.sk-toggleable__label-arrow:before {color: black;}#sk-container-id-4 div.sk-toggleable__content {max-height: 0;max-width: 0;overflow: hidden;text-align: left;background-color: #f0f8ff;}#sk-container-id-4 div.sk-toggleable__content pre {margin: 0.2em;color: black;border-radius: 0.25em;background-color: #f0f8ff;}#sk-container-id-4 input.sk-toggleable__control:checked~div.sk-toggleable__content {max-height: 200px;max-width: 100%;overflow: auto;}#sk-container-id-4 input.sk-toggleable__control:checked~label.sk-toggleable__label-arrow:before {content: \"▾\";}#sk-container-id-4 div.sk-estimator input.sk-toggleable__control:checked~label.sk-toggleable__label {background-color: #d4ebff;}#sk-container-id-4 div.sk-label input.sk-toggleable__control:checked~label.sk-toggleable__label {background-color: #d4ebff;}#sk-container-id-4 input.sk-hidden--visually {border: 0;clip: rect(1px 1px 1px 1px);clip: rect(1px, 1px, 1px, 1px);height: 1px;margin: -1px;overflow: hidden;padding: 0;position: absolute;width: 1px;}#sk-container-id-4 div.sk-estimator {font-family: monospace;background-color: #f0f8ff;border: 1px dotted black;border-radius: 0.25em;box-sizing: border-box;margin-bottom: 0.5em;}#sk-container-id-4 div.sk-estimator:hover {background-color: #d4ebff;}#sk-container-id-4 div.sk-parallel-item::after {content: \"\";width: 100%;border-bottom: 1px solid gray;flex-grow: 1;}#sk-container-id-4 div.sk-label:hover label.sk-toggleable__label {background-color: #d4ebff;}#sk-container-id-4 div.sk-serial::before {content: \"\";position: absolute;border-left: 1px solid gray;box-sizing: border-box;top: 0;bottom: 0;left: 50%;z-index: 0;}#sk-container-id-4 div.sk-serial {display: flex;flex-direction: column;align-items: center;background-color: white;padding-right: 0.2em;padding-left: 0.2em;position: relative;}#sk-container-id-4 div.sk-item {position: relative;z-index: 1;}#sk-container-id-4 div.sk-parallel {display: flex;align-items: stretch;justify-content: center;background-color: white;position: relative;}#sk-container-id-4 div.sk-item::before, #sk-container-id-4 div.sk-parallel-item::before {content: \"\";position: absolute;border-left: 1px solid gray;box-sizing: border-box;top: 0;bottom: 0;left: 50%;z-index: -1;}#sk-container-id-4 div.sk-parallel-item {display: flex;flex-direction: column;z-index: 1;position: relative;background-color: white;}#sk-container-id-4 div.sk-parallel-item:first-child::after {align-self: flex-end;width: 50%;}#sk-container-id-4 div.sk-parallel-item:last-child::after {align-self: flex-start;width: 50%;}#sk-container-id-4 div.sk-parallel-item:only-child::after {width: 0;}#sk-container-id-4 div.sk-dashed-wrapped {border: 1px dashed gray;margin: 0 0.4em 0.5em 0.4em;box-sizing: border-box;padding-bottom: 0.4em;background-color: white;}#sk-container-id-4 div.sk-label label {font-family: monospace;font-weight: bold;display: inline-block;line-height: 1.2em;}#sk-container-id-4 div.sk-label-container {text-align: center;}#sk-container-id-4 div.sk-container {/* jupyter's `normalize.less` sets `[hidden] { display: none; }` but bootstrap.min.css set `[hidden] { display: none !important; }` so we also need the `!important` here to be able to override the default hidden behavior on the sphinx rendered scikit-learn.org. See: https://github.com/scikit-learn/scikit-learn/issues/21755 */display: inline-block !important;position: relative;}#sk-container-id-4 div.sk-text-repr-fallback {display: none;}</style><div id=\"sk-container-id-4\" class=\"sk-top-container\"><div class=\"sk-text-repr-fallback\"><pre>KNeighborsRegressor(n_neighbors=11, p=1)</pre><b>In a Jupyter environment, please rerun this cell to show the HTML representation or trust the notebook. <br />On GitHub, the HTML representation is unable to render, please try loading this page with nbviewer.org.</b></div><div class=\"sk-container\" hidden><div class=\"sk-item\"><div class=\"sk-estimator sk-toggleable\"><input class=\"sk-toggleable__control sk-hidden--visually\" id=\"sk-estimator-id-6\" type=\"checkbox\" checked><label for=\"sk-estimator-id-6\" class=\"sk-toggleable__label sk-toggleable__label-arrow\">KNeighborsRegressor</label><div class=\"sk-toggleable__content\"><pre>KNeighborsRegressor(n_neighbors=11, p=1)</pre></div></div></div></div></div>"
      ],
      "text/plain": [
       "KNeighborsRegressor(n_neighbors=11, p=1)"
      ]
     },
     "execution_count": 97,
     "metadata": {},
     "output_type": "execute_result"
    }
   ],
   "source": [
    "gscv.best_estimator_"
   ]
  },
  {
   "cell_type": "code",
   "execution_count": 98,
   "id": "ebd5ed04",
   "metadata": {},
   "outputs": [
    {
     "data": {
      "text/html": [
       "<style>#sk-container-id-5 {color: black;background-color: white;}#sk-container-id-5 pre{padding: 0;}#sk-container-id-5 div.sk-toggleable {background-color: white;}#sk-container-id-5 label.sk-toggleable__label {cursor: pointer;display: block;width: 100%;margin-bottom: 0;padding: 0.3em;box-sizing: border-box;text-align: center;}#sk-container-id-5 label.sk-toggleable__label-arrow:before {content: \"▸\";float: left;margin-right: 0.25em;color: #696969;}#sk-container-id-5 label.sk-toggleable__label-arrow:hover:before {color: black;}#sk-container-id-5 div.sk-estimator:hover label.sk-toggleable__label-arrow:before {color: black;}#sk-container-id-5 div.sk-toggleable__content {max-height: 0;max-width: 0;overflow: hidden;text-align: left;background-color: #f0f8ff;}#sk-container-id-5 div.sk-toggleable__content pre {margin: 0.2em;color: black;border-radius: 0.25em;background-color: #f0f8ff;}#sk-container-id-5 input.sk-toggleable__control:checked~div.sk-toggleable__content {max-height: 200px;max-width: 100%;overflow: auto;}#sk-container-id-5 input.sk-toggleable__control:checked~label.sk-toggleable__label-arrow:before {content: \"▾\";}#sk-container-id-5 div.sk-estimator input.sk-toggleable__control:checked~label.sk-toggleable__label {background-color: #d4ebff;}#sk-container-id-5 div.sk-label input.sk-toggleable__control:checked~label.sk-toggleable__label {background-color: #d4ebff;}#sk-container-id-5 input.sk-hidden--visually {border: 0;clip: rect(1px 1px 1px 1px);clip: rect(1px, 1px, 1px, 1px);height: 1px;margin: -1px;overflow: hidden;padding: 0;position: absolute;width: 1px;}#sk-container-id-5 div.sk-estimator {font-family: monospace;background-color: #f0f8ff;border: 1px dotted black;border-radius: 0.25em;box-sizing: border-box;margin-bottom: 0.5em;}#sk-container-id-5 div.sk-estimator:hover {background-color: #d4ebff;}#sk-container-id-5 div.sk-parallel-item::after {content: \"\";width: 100%;border-bottom: 1px solid gray;flex-grow: 1;}#sk-container-id-5 div.sk-label:hover label.sk-toggleable__label {background-color: #d4ebff;}#sk-container-id-5 div.sk-serial::before {content: \"\";position: absolute;border-left: 1px solid gray;box-sizing: border-box;top: 0;bottom: 0;left: 50%;z-index: 0;}#sk-container-id-5 div.sk-serial {display: flex;flex-direction: column;align-items: center;background-color: white;padding-right: 0.2em;padding-left: 0.2em;position: relative;}#sk-container-id-5 div.sk-item {position: relative;z-index: 1;}#sk-container-id-5 div.sk-parallel {display: flex;align-items: stretch;justify-content: center;background-color: white;position: relative;}#sk-container-id-5 div.sk-item::before, #sk-container-id-5 div.sk-parallel-item::before {content: \"\";position: absolute;border-left: 1px solid gray;box-sizing: border-box;top: 0;bottom: 0;left: 50%;z-index: -1;}#sk-container-id-5 div.sk-parallel-item {display: flex;flex-direction: column;z-index: 1;position: relative;background-color: white;}#sk-container-id-5 div.sk-parallel-item:first-child::after {align-self: flex-end;width: 50%;}#sk-container-id-5 div.sk-parallel-item:last-child::after {align-self: flex-start;width: 50%;}#sk-container-id-5 div.sk-parallel-item:only-child::after {width: 0;}#sk-container-id-5 div.sk-dashed-wrapped {border: 1px dashed gray;margin: 0 0.4em 0.5em 0.4em;box-sizing: border-box;padding-bottom: 0.4em;background-color: white;}#sk-container-id-5 div.sk-label label {font-family: monospace;font-weight: bold;display: inline-block;line-height: 1.2em;}#sk-container-id-5 div.sk-label-container {text-align: center;}#sk-container-id-5 div.sk-container {/* jupyter's `normalize.less` sets `[hidden] { display: none; }` but bootstrap.min.css set `[hidden] { display: none !important; }` so we also need the `!important` here to be able to override the default hidden behavior on the sphinx rendered scikit-learn.org. See: https://github.com/scikit-learn/scikit-learn/issues/21755 */display: inline-block !important;position: relative;}#sk-container-id-5 div.sk-text-repr-fallback {display: none;}</style><div id=\"sk-container-id-5\" class=\"sk-top-container\"><div class=\"sk-text-repr-fallback\"><pre>KNeighborsRegressor(n_neighbors=11, p=1)</pre><b>In a Jupyter environment, please rerun this cell to show the HTML representation or trust the notebook. <br />On GitHub, the HTML representation is unable to render, please try loading this page with nbviewer.org.</b></div><div class=\"sk-container\" hidden><div class=\"sk-item\"><div class=\"sk-estimator sk-toggleable\"><input class=\"sk-toggleable__control sk-hidden--visually\" id=\"sk-estimator-id-7\" type=\"checkbox\" checked><label for=\"sk-estimator-id-7\" class=\"sk-toggleable__label sk-toggleable__label-arrow\">KNeighborsRegressor</label><div class=\"sk-toggleable__content\"><pre>KNeighborsRegressor(n_neighbors=11, p=1)</pre></div></div></div></div></div>"
      ],
      "text/plain": [
       "KNeighborsRegressor(n_neighbors=11, p=1)"
      ]
     },
     "execution_count": 98,
     "metadata": {},
     "output_type": "execute_result"
    }
   ],
   "source": [
    "knn_model_tune=gscv.best_estimator_\n",
    "knn_model_tune.fit(x_train,y_train)"
   ]
  },
  {
   "cell_type": "code",
   "execution_count": 99,
   "id": "b9b6ba3c",
   "metadata": {},
   "outputs": [
    {
     "name": "stdout",
     "output_type": "stream",
     "text": [
      "mean_squared_error=16839.832087565275\n",
      "root of mean_squared_error=129.76837861191484\n",
      "mean_absolute_error=54.785011155886444\n",
      "r2_score=0.1875155405393023\n"
     ]
    }
   ],
   "source": [
    "#Model Evalution \n",
    "#testing data Evalution\n",
    "y_test_predict=knn_model_tune.predict(x_test)\n",
    "mod_eval(y_test,y_test_predict)\n"
   ]
  },
  {
   "cell_type": "code",
   "execution_count": 100,
   "id": "c32ee606",
   "metadata": {},
   "outputs": [
    {
     "name": "stdout",
     "output_type": "stream",
     "text": [
      "mean_squared_error=14696.995350698659\n",
      "root of mean_squared_error=121.23116493170664\n",
      "mean_absolute_error=49.73487782505172\n",
      "r2_score=0.3564943335749986\n"
     ]
    }
   ],
   "source": [
    "#traning data Evalution\n",
    "y_train_predict=knn_model_tune.predict(x_train)\n",
    "mod_eval(y_train,y_train_predict)"
   ]
  },
  {
   "cell_type": "markdown",
   "id": "588c7be4",
   "metadata": {},
   "source": [
    "### by using Decision Tree"
   ]
  },
  {
   "cell_type": "code",
   "execution_count": 102,
   "id": "5150916a",
   "metadata": {},
   "outputs": [
    {
     "name": "stdout",
     "output_type": "stream",
     "text": [
      "(9316, 6)\n",
      "(3993, 6)\n",
      "(9316,)\n",
      "(3993,)\n"
     ]
    }
   ],
   "source": [
    "x_train,x_test,y_train,y_test=train_test_split(x,y,test_size=0.30,random_state=5)\n",
    "print(x_train.shape)\n",
    "print(x_test.shape)\n",
    "print(y_train.shape)\n",
    "print(y_test.shape)"
   ]
  },
  {
   "cell_type": "code",
   "execution_count": 103,
   "id": "16aad72b",
   "metadata": {},
   "outputs": [
    {
     "data": {
      "text/html": [
       "<style>#sk-container-id-6 {color: black;background-color: white;}#sk-container-id-6 pre{padding: 0;}#sk-container-id-6 div.sk-toggleable {background-color: white;}#sk-container-id-6 label.sk-toggleable__label {cursor: pointer;display: block;width: 100%;margin-bottom: 0;padding: 0.3em;box-sizing: border-box;text-align: center;}#sk-container-id-6 label.sk-toggleable__label-arrow:before {content: \"▸\";float: left;margin-right: 0.25em;color: #696969;}#sk-container-id-6 label.sk-toggleable__label-arrow:hover:before {color: black;}#sk-container-id-6 div.sk-estimator:hover label.sk-toggleable__label-arrow:before {color: black;}#sk-container-id-6 div.sk-toggleable__content {max-height: 0;max-width: 0;overflow: hidden;text-align: left;background-color: #f0f8ff;}#sk-container-id-6 div.sk-toggleable__content pre {margin: 0.2em;color: black;border-radius: 0.25em;background-color: #f0f8ff;}#sk-container-id-6 input.sk-toggleable__control:checked~div.sk-toggleable__content {max-height: 200px;max-width: 100%;overflow: auto;}#sk-container-id-6 input.sk-toggleable__control:checked~label.sk-toggleable__label-arrow:before {content: \"▾\";}#sk-container-id-6 div.sk-estimator input.sk-toggleable__control:checked~label.sk-toggleable__label {background-color: #d4ebff;}#sk-container-id-6 div.sk-label input.sk-toggleable__control:checked~label.sk-toggleable__label {background-color: #d4ebff;}#sk-container-id-6 input.sk-hidden--visually {border: 0;clip: rect(1px 1px 1px 1px);clip: rect(1px, 1px, 1px, 1px);height: 1px;margin: -1px;overflow: hidden;padding: 0;position: absolute;width: 1px;}#sk-container-id-6 div.sk-estimator {font-family: monospace;background-color: #f0f8ff;border: 1px dotted black;border-radius: 0.25em;box-sizing: border-box;margin-bottom: 0.5em;}#sk-container-id-6 div.sk-estimator:hover {background-color: #d4ebff;}#sk-container-id-6 div.sk-parallel-item::after {content: \"\";width: 100%;border-bottom: 1px solid gray;flex-grow: 1;}#sk-container-id-6 div.sk-label:hover label.sk-toggleable__label {background-color: #d4ebff;}#sk-container-id-6 div.sk-serial::before {content: \"\";position: absolute;border-left: 1px solid gray;box-sizing: border-box;top: 0;bottom: 0;left: 50%;z-index: 0;}#sk-container-id-6 div.sk-serial {display: flex;flex-direction: column;align-items: center;background-color: white;padding-right: 0.2em;padding-left: 0.2em;position: relative;}#sk-container-id-6 div.sk-item {position: relative;z-index: 1;}#sk-container-id-6 div.sk-parallel {display: flex;align-items: stretch;justify-content: center;background-color: white;position: relative;}#sk-container-id-6 div.sk-item::before, #sk-container-id-6 div.sk-parallel-item::before {content: \"\";position: absolute;border-left: 1px solid gray;box-sizing: border-box;top: 0;bottom: 0;left: 50%;z-index: -1;}#sk-container-id-6 div.sk-parallel-item {display: flex;flex-direction: column;z-index: 1;position: relative;background-color: white;}#sk-container-id-6 div.sk-parallel-item:first-child::after {align-self: flex-end;width: 50%;}#sk-container-id-6 div.sk-parallel-item:last-child::after {align-self: flex-start;width: 50%;}#sk-container-id-6 div.sk-parallel-item:only-child::after {width: 0;}#sk-container-id-6 div.sk-dashed-wrapped {border: 1px dashed gray;margin: 0 0.4em 0.5em 0.4em;box-sizing: border-box;padding-bottom: 0.4em;background-color: white;}#sk-container-id-6 div.sk-label label {font-family: monospace;font-weight: bold;display: inline-block;line-height: 1.2em;}#sk-container-id-6 div.sk-label-container {text-align: center;}#sk-container-id-6 div.sk-container {/* jupyter's `normalize.less` sets `[hidden] { display: none; }` but bootstrap.min.css set `[hidden] { display: none !important; }` so we also need the `!important` here to be able to override the default hidden behavior on the sphinx rendered scikit-learn.org. See: https://github.com/scikit-learn/scikit-learn/issues/21755 */display: inline-block !important;position: relative;}#sk-container-id-6 div.sk-text-repr-fallback {display: none;}</style><div id=\"sk-container-id-6\" class=\"sk-top-container\"><div class=\"sk-text-repr-fallback\"><pre>DecisionTreeRegressor(random_state=5)</pre><b>In a Jupyter environment, please rerun this cell to show the HTML representation or trust the notebook. <br />On GitHub, the HTML representation is unable to render, please try loading this page with nbviewer.org.</b></div><div class=\"sk-container\" hidden><div class=\"sk-item\"><div class=\"sk-estimator sk-toggleable\"><input class=\"sk-toggleable__control sk-hidden--visually\" id=\"sk-estimator-id-8\" type=\"checkbox\" checked><label for=\"sk-estimator-id-8\" class=\"sk-toggleable__label sk-toggleable__label-arrow\">DecisionTreeRegressor</label><div class=\"sk-toggleable__content\"><pre>DecisionTreeRegressor(random_state=5)</pre></div></div></div></div></div>"
      ],
      "text/plain": [
       "DecisionTreeRegressor(random_state=5)"
      ]
     },
     "execution_count": 103,
     "metadata": {},
     "output_type": "execute_result"
    }
   ],
   "source": [
    "# model training\n",
    "from sklearn.tree import DecisionTreeRegressor\n",
    "dt_model= DecisionTreeRegressor(random_state=5)\n",
    "dt_model.fit(x_train,y_train)"
   ]
  },
  {
   "cell_type": "code",
   "execution_count": 104,
   "id": "6d1cdedc",
   "metadata": {},
   "outputs": [
    {
     "name": "stdout",
     "output_type": "stream",
     "text": [
      "mean_squared_error=31061.74462407825\n",
      "root of mean_squared_error=176.2434243428056\n",
      "mean_absolute_error=73.43509558393856\n",
      "r2_score=-0.2570725720684819\n"
     ]
    }
   ],
   "source": [
    "#Model Evalution \n",
    "#testing data Evalution\n",
    "y_test_predict=dt_model.predict(x_test)\n",
    "mod_eval(y_test,y_test_predict)\n"
   ]
  },
  {
   "cell_type": "code",
   "execution_count": 106,
   "id": "6591217d",
   "metadata": {},
   "outputs": [
    {
     "name": "stdout",
     "output_type": "stream",
     "text": [
      "mean_squared_error=41.82755338306856\n",
      "root of mean_squared_error=6.467422468268836\n",
      "mean_absolute_error=0.6880925289823958\n",
      "r2_score=0.998020382704191\n"
     ]
    }
   ],
   "source": [
    "#traning data Evalution\n",
    "y_train_predict=dt_model.predict(x_train)\n",
    "mod_eval(y_train,y_train_predict)"
   ]
  },
  {
   "cell_type": "code",
   "execution_count": 107,
   "id": "cf43528c",
   "metadata": {},
   "outputs": [
    {
     "data": {
      "text/html": [
       "<style>#sk-container-id-7 {color: black;background-color: white;}#sk-container-id-7 pre{padding: 0;}#sk-container-id-7 div.sk-toggleable {background-color: white;}#sk-container-id-7 label.sk-toggleable__label {cursor: pointer;display: block;width: 100%;margin-bottom: 0;padding: 0.3em;box-sizing: border-box;text-align: center;}#sk-container-id-7 label.sk-toggleable__label-arrow:before {content: \"▸\";float: left;margin-right: 0.25em;color: #696969;}#sk-container-id-7 label.sk-toggleable__label-arrow:hover:before {color: black;}#sk-container-id-7 div.sk-estimator:hover label.sk-toggleable__label-arrow:before {color: black;}#sk-container-id-7 div.sk-toggleable__content {max-height: 0;max-width: 0;overflow: hidden;text-align: left;background-color: #f0f8ff;}#sk-container-id-7 div.sk-toggleable__content pre {margin: 0.2em;color: black;border-radius: 0.25em;background-color: #f0f8ff;}#sk-container-id-7 input.sk-toggleable__control:checked~div.sk-toggleable__content {max-height: 200px;max-width: 100%;overflow: auto;}#sk-container-id-7 input.sk-toggleable__control:checked~label.sk-toggleable__label-arrow:before {content: \"▾\";}#sk-container-id-7 div.sk-estimator input.sk-toggleable__control:checked~label.sk-toggleable__label {background-color: #d4ebff;}#sk-container-id-7 div.sk-label input.sk-toggleable__control:checked~label.sk-toggleable__label {background-color: #d4ebff;}#sk-container-id-7 input.sk-hidden--visually {border: 0;clip: rect(1px 1px 1px 1px);clip: rect(1px, 1px, 1px, 1px);height: 1px;margin: -1px;overflow: hidden;padding: 0;position: absolute;width: 1px;}#sk-container-id-7 div.sk-estimator {font-family: monospace;background-color: #f0f8ff;border: 1px dotted black;border-radius: 0.25em;box-sizing: border-box;margin-bottom: 0.5em;}#sk-container-id-7 div.sk-estimator:hover {background-color: #d4ebff;}#sk-container-id-7 div.sk-parallel-item::after {content: \"\";width: 100%;border-bottom: 1px solid gray;flex-grow: 1;}#sk-container-id-7 div.sk-label:hover label.sk-toggleable__label {background-color: #d4ebff;}#sk-container-id-7 div.sk-serial::before {content: \"\";position: absolute;border-left: 1px solid gray;box-sizing: border-box;top: 0;bottom: 0;left: 50%;z-index: 0;}#sk-container-id-7 div.sk-serial {display: flex;flex-direction: column;align-items: center;background-color: white;padding-right: 0.2em;padding-left: 0.2em;position: relative;}#sk-container-id-7 div.sk-item {position: relative;z-index: 1;}#sk-container-id-7 div.sk-parallel {display: flex;align-items: stretch;justify-content: center;background-color: white;position: relative;}#sk-container-id-7 div.sk-item::before, #sk-container-id-7 div.sk-parallel-item::before {content: \"\";position: absolute;border-left: 1px solid gray;box-sizing: border-box;top: 0;bottom: 0;left: 50%;z-index: -1;}#sk-container-id-7 div.sk-parallel-item {display: flex;flex-direction: column;z-index: 1;position: relative;background-color: white;}#sk-container-id-7 div.sk-parallel-item:first-child::after {align-self: flex-end;width: 50%;}#sk-container-id-7 div.sk-parallel-item:last-child::after {align-self: flex-start;width: 50%;}#sk-container-id-7 div.sk-parallel-item:only-child::after {width: 0;}#sk-container-id-7 div.sk-dashed-wrapped {border: 1px dashed gray;margin: 0 0.4em 0.5em 0.4em;box-sizing: border-box;padding-bottom: 0.4em;background-color: white;}#sk-container-id-7 div.sk-label label {font-family: monospace;font-weight: bold;display: inline-block;line-height: 1.2em;}#sk-container-id-7 div.sk-label-container {text-align: center;}#sk-container-id-7 div.sk-container {/* jupyter's `normalize.less` sets `[hidden] { display: none; }` but bootstrap.min.css set `[hidden] { display: none !important; }` so we also need the `!important` here to be able to override the default hidden behavior on the sphinx rendered scikit-learn.org. See: https://github.com/scikit-learn/scikit-learn/issues/21755 */display: inline-block !important;position: relative;}#sk-container-id-7 div.sk-text-repr-fallback {display: none;}</style><div id=\"sk-container-id-7\" class=\"sk-top-container\"><div class=\"sk-text-repr-fallback\"><pre>RandomizedSearchCV(cv=5, estimator=DecisionTreeRegressor(random_state=6),\n",
       "                   param_distributions={&#x27;criterion&#x27;: [&#x27;squared_error&#x27;,\n",
       "                                                      &#x27;absolute_error&#x27;],\n",
       "                                        &#x27;max_depth&#x27;: array([2, 3, 4, 5, 6, 7, 8, 9]),\n",
       "                                        &#x27;min_samples_leaf&#x27;: array([5, 6, 7, 8, 9]),\n",
       "                                        &#x27;min_samples_split&#x27;: array([ 5,  6,  7,  8,  9, 10, 11, 12, 13, 14])})</pre><b>In a Jupyter environment, please rerun this cell to show the HTML representation or trust the notebook. <br />On GitHub, the HTML representation is unable to render, please try loading this page with nbviewer.org.</b></div><div class=\"sk-container\" hidden><div class=\"sk-item sk-dashed-wrapped\"><div class=\"sk-label-container\"><div class=\"sk-label sk-toggleable\"><input class=\"sk-toggleable__control sk-hidden--visually\" id=\"sk-estimator-id-9\" type=\"checkbox\" ><label for=\"sk-estimator-id-9\" class=\"sk-toggleable__label sk-toggleable__label-arrow\">RandomizedSearchCV</label><div class=\"sk-toggleable__content\"><pre>RandomizedSearchCV(cv=5, estimator=DecisionTreeRegressor(random_state=6),\n",
       "                   param_distributions={&#x27;criterion&#x27;: [&#x27;squared_error&#x27;,\n",
       "                                                      &#x27;absolute_error&#x27;],\n",
       "                                        &#x27;max_depth&#x27;: array([2, 3, 4, 5, 6, 7, 8, 9]),\n",
       "                                        &#x27;min_samples_leaf&#x27;: array([5, 6, 7, 8, 9]),\n",
       "                                        &#x27;min_samples_split&#x27;: array([ 5,  6,  7,  8,  9, 10, 11, 12, 13, 14])})</pre></div></div></div><div class=\"sk-parallel\"><div class=\"sk-parallel-item\"><div class=\"sk-item\"><div class=\"sk-label-container\"><div class=\"sk-label sk-toggleable\"><input class=\"sk-toggleable__control sk-hidden--visually\" id=\"sk-estimator-id-10\" type=\"checkbox\" ><label for=\"sk-estimator-id-10\" class=\"sk-toggleable__label sk-toggleable__label-arrow\">estimator: DecisionTreeRegressor</label><div class=\"sk-toggleable__content\"><pre>DecisionTreeRegressor(random_state=6)</pre></div></div></div><div class=\"sk-serial\"><div class=\"sk-item\"><div class=\"sk-estimator sk-toggleable\"><input class=\"sk-toggleable__control sk-hidden--visually\" id=\"sk-estimator-id-11\" type=\"checkbox\" ><label for=\"sk-estimator-id-11\" class=\"sk-toggleable__label sk-toggleable__label-arrow\">DecisionTreeRegressor</label><div class=\"sk-toggleable__content\"><pre>DecisionTreeRegressor(random_state=6)</pre></div></div></div></div></div></div></div></div></div></div>"
      ],
      "text/plain": [
       "RandomizedSearchCV(cv=5, estimator=DecisionTreeRegressor(random_state=6),\n",
       "                   param_distributions={'criterion': ['squared_error',\n",
       "                                                      'absolute_error'],\n",
       "                                        'max_depth': array([2, 3, 4, 5, 6, 7, 8, 9]),\n",
       "                                        'min_samples_leaf': array([5, 6, 7, 8, 9]),\n",
       "                                        'min_samples_split': array([ 5,  6,  7,  8,  9, 10, 11, 12, 13, 14])})"
      ]
     },
     "execution_count": 107,
     "metadata": {},
     "output_type": "execute_result"
    }
   ],
   "source": [
    "# Hypertune Parameter\n",
    "from sklearn.model_selection import RandomizedSearchCV\n",
    "dt_model=DecisionTreeRegressor(random_state=6)\n",
    "hyp={'criterion':['squared_error','absolute_error'],'max_depth':np.arange(2,10),'min_samples_split':np.arange(5,15),\n",
    "     'min_samples_leaf':np.arange(5,10)}\n",
    "rscv=RandomizedSearchCV(dt_model,hyp,cv=5)\n",
    "rscv.fit(x_train,y_train)"
   ]
  },
  {
   "cell_type": "code",
   "execution_count": 108,
   "id": "9a90f452",
   "metadata": {},
   "outputs": [
    {
     "data": {
      "text/html": [
       "<style>#sk-container-id-8 {color: black;background-color: white;}#sk-container-id-8 pre{padding: 0;}#sk-container-id-8 div.sk-toggleable {background-color: white;}#sk-container-id-8 label.sk-toggleable__label {cursor: pointer;display: block;width: 100%;margin-bottom: 0;padding: 0.3em;box-sizing: border-box;text-align: center;}#sk-container-id-8 label.sk-toggleable__label-arrow:before {content: \"▸\";float: left;margin-right: 0.25em;color: #696969;}#sk-container-id-8 label.sk-toggleable__label-arrow:hover:before {color: black;}#sk-container-id-8 div.sk-estimator:hover label.sk-toggleable__label-arrow:before {color: black;}#sk-container-id-8 div.sk-toggleable__content {max-height: 0;max-width: 0;overflow: hidden;text-align: left;background-color: #f0f8ff;}#sk-container-id-8 div.sk-toggleable__content pre {margin: 0.2em;color: black;border-radius: 0.25em;background-color: #f0f8ff;}#sk-container-id-8 input.sk-toggleable__control:checked~div.sk-toggleable__content {max-height: 200px;max-width: 100%;overflow: auto;}#sk-container-id-8 input.sk-toggleable__control:checked~label.sk-toggleable__label-arrow:before {content: \"▾\";}#sk-container-id-8 div.sk-estimator input.sk-toggleable__control:checked~label.sk-toggleable__label {background-color: #d4ebff;}#sk-container-id-8 div.sk-label input.sk-toggleable__control:checked~label.sk-toggleable__label {background-color: #d4ebff;}#sk-container-id-8 input.sk-hidden--visually {border: 0;clip: rect(1px 1px 1px 1px);clip: rect(1px, 1px, 1px, 1px);height: 1px;margin: -1px;overflow: hidden;padding: 0;position: absolute;width: 1px;}#sk-container-id-8 div.sk-estimator {font-family: monospace;background-color: #f0f8ff;border: 1px dotted black;border-radius: 0.25em;box-sizing: border-box;margin-bottom: 0.5em;}#sk-container-id-8 div.sk-estimator:hover {background-color: #d4ebff;}#sk-container-id-8 div.sk-parallel-item::after {content: \"\";width: 100%;border-bottom: 1px solid gray;flex-grow: 1;}#sk-container-id-8 div.sk-label:hover label.sk-toggleable__label {background-color: #d4ebff;}#sk-container-id-8 div.sk-serial::before {content: \"\";position: absolute;border-left: 1px solid gray;box-sizing: border-box;top: 0;bottom: 0;left: 50%;z-index: 0;}#sk-container-id-8 div.sk-serial {display: flex;flex-direction: column;align-items: center;background-color: white;padding-right: 0.2em;padding-left: 0.2em;position: relative;}#sk-container-id-8 div.sk-item {position: relative;z-index: 1;}#sk-container-id-8 div.sk-parallel {display: flex;align-items: stretch;justify-content: center;background-color: white;position: relative;}#sk-container-id-8 div.sk-item::before, #sk-container-id-8 div.sk-parallel-item::before {content: \"\";position: absolute;border-left: 1px solid gray;box-sizing: border-box;top: 0;bottom: 0;left: 50%;z-index: -1;}#sk-container-id-8 div.sk-parallel-item {display: flex;flex-direction: column;z-index: 1;position: relative;background-color: white;}#sk-container-id-8 div.sk-parallel-item:first-child::after {align-self: flex-end;width: 50%;}#sk-container-id-8 div.sk-parallel-item:last-child::after {align-self: flex-start;width: 50%;}#sk-container-id-8 div.sk-parallel-item:only-child::after {width: 0;}#sk-container-id-8 div.sk-dashed-wrapped {border: 1px dashed gray;margin: 0 0.4em 0.5em 0.4em;box-sizing: border-box;padding-bottom: 0.4em;background-color: white;}#sk-container-id-8 div.sk-label label {font-family: monospace;font-weight: bold;display: inline-block;line-height: 1.2em;}#sk-container-id-8 div.sk-label-container {text-align: center;}#sk-container-id-8 div.sk-container {/* jupyter's `normalize.less` sets `[hidden] { display: none; }` but bootstrap.min.css set `[hidden] { display: none !important; }` so we also need the `!important` here to be able to override the default hidden behavior on the sphinx rendered scikit-learn.org. See: https://github.com/scikit-learn/scikit-learn/issues/21755 */display: inline-block !important;position: relative;}#sk-container-id-8 div.sk-text-repr-fallback {display: none;}</style><div id=\"sk-container-id-8\" class=\"sk-top-container\"><div class=\"sk-text-repr-fallback\"><pre>DecisionTreeRegressor(max_depth=3, min_samples_leaf=7, min_samples_split=14,\n",
       "                      random_state=6)</pre><b>In a Jupyter environment, please rerun this cell to show the HTML representation or trust the notebook. <br />On GitHub, the HTML representation is unable to render, please try loading this page with nbviewer.org.</b></div><div class=\"sk-container\" hidden><div class=\"sk-item\"><div class=\"sk-estimator sk-toggleable\"><input class=\"sk-toggleable__control sk-hidden--visually\" id=\"sk-estimator-id-12\" type=\"checkbox\" checked><label for=\"sk-estimator-id-12\" class=\"sk-toggleable__label sk-toggleable__label-arrow\">DecisionTreeRegressor</label><div class=\"sk-toggleable__content\"><pre>DecisionTreeRegressor(max_depth=3, min_samples_leaf=7, min_samples_split=14,\n",
       "                      random_state=6)</pre></div></div></div></div></div>"
      ],
      "text/plain": [
       "DecisionTreeRegressor(max_depth=3, min_samples_leaf=7, min_samples_split=14,\n",
       "                      random_state=6)"
      ]
     },
     "execution_count": 108,
     "metadata": {},
     "output_type": "execute_result"
    }
   ],
   "source": [
    "dt_hyp_model=rscv.best_estimator_\n",
    "dt_hyp_model.fit(x_train,y_train)"
   ]
  },
  {
   "cell_type": "code",
   "execution_count": 109,
   "id": "540e18ef",
   "metadata": {},
   "outputs": [
    {
     "name": "stdout",
     "output_type": "stream",
     "text": [
      "mean_squared_error=18488.71146770009\n",
      "root of mean_squared_error=135.97320128503296\n",
      "mean_absolute_error=53.945294501721065\n",
      "r2_score=0.2517596046128887\n"
     ]
    }
   ],
   "source": [
    "#Model Evalution \n",
    "#testing data Evalution\n",
    "y_test_predict=dt_hyp_model.predict(x_test)\n",
    "mod_eval(y_test,y_test_predict)"
   ]
  },
  {
   "cell_type": "code",
   "execution_count": 110,
   "id": "f6c88a4c",
   "metadata": {},
   "outputs": [
    {
     "name": "stdout",
     "output_type": "stream",
     "text": [
      "mean_squared_error=14968.506352114502\n",
      "root of mean_squared_error=122.3458473022869\n",
      "mean_absolute_error=51.07254384057747\n",
      "r2_score=0.29156951171169876\n"
     ]
    }
   ],
   "source": [
    "#traning data Evalution\n",
    "y_train_predict=dt_hyp_model.predict(x_train)\n",
    "mod_eval(y_train,y_train_predict)"
   ]
  },
  {
   "cell_type": "markdown",
   "id": "00f1a78b",
   "metadata": {},
   "source": [
    "### By using Random Forest"
   ]
  },
  {
   "cell_type": "code",
   "execution_count": 111,
   "id": "1a6ab7a4",
   "metadata": {},
   "outputs": [
    {
     "data": {
      "text/html": [
       "<style>#sk-container-id-9 {color: black;background-color: white;}#sk-container-id-9 pre{padding: 0;}#sk-container-id-9 div.sk-toggleable {background-color: white;}#sk-container-id-9 label.sk-toggleable__label {cursor: pointer;display: block;width: 100%;margin-bottom: 0;padding: 0.3em;box-sizing: border-box;text-align: center;}#sk-container-id-9 label.sk-toggleable__label-arrow:before {content: \"▸\";float: left;margin-right: 0.25em;color: #696969;}#sk-container-id-9 label.sk-toggleable__label-arrow:hover:before {color: black;}#sk-container-id-9 div.sk-estimator:hover label.sk-toggleable__label-arrow:before {color: black;}#sk-container-id-9 div.sk-toggleable__content {max-height: 0;max-width: 0;overflow: hidden;text-align: left;background-color: #f0f8ff;}#sk-container-id-9 div.sk-toggleable__content pre {margin: 0.2em;color: black;border-radius: 0.25em;background-color: #f0f8ff;}#sk-container-id-9 input.sk-toggleable__control:checked~div.sk-toggleable__content {max-height: 200px;max-width: 100%;overflow: auto;}#sk-container-id-9 input.sk-toggleable__control:checked~label.sk-toggleable__label-arrow:before {content: \"▾\";}#sk-container-id-9 div.sk-estimator input.sk-toggleable__control:checked~label.sk-toggleable__label {background-color: #d4ebff;}#sk-container-id-9 div.sk-label input.sk-toggleable__control:checked~label.sk-toggleable__label {background-color: #d4ebff;}#sk-container-id-9 input.sk-hidden--visually {border: 0;clip: rect(1px 1px 1px 1px);clip: rect(1px, 1px, 1px, 1px);height: 1px;margin: -1px;overflow: hidden;padding: 0;position: absolute;width: 1px;}#sk-container-id-9 div.sk-estimator {font-family: monospace;background-color: #f0f8ff;border: 1px dotted black;border-radius: 0.25em;box-sizing: border-box;margin-bottom: 0.5em;}#sk-container-id-9 div.sk-estimator:hover {background-color: #d4ebff;}#sk-container-id-9 div.sk-parallel-item::after {content: \"\";width: 100%;border-bottom: 1px solid gray;flex-grow: 1;}#sk-container-id-9 div.sk-label:hover label.sk-toggleable__label {background-color: #d4ebff;}#sk-container-id-9 div.sk-serial::before {content: \"\";position: absolute;border-left: 1px solid gray;box-sizing: border-box;top: 0;bottom: 0;left: 50%;z-index: 0;}#sk-container-id-9 div.sk-serial {display: flex;flex-direction: column;align-items: center;background-color: white;padding-right: 0.2em;padding-left: 0.2em;position: relative;}#sk-container-id-9 div.sk-item {position: relative;z-index: 1;}#sk-container-id-9 div.sk-parallel {display: flex;align-items: stretch;justify-content: center;background-color: white;position: relative;}#sk-container-id-9 div.sk-item::before, #sk-container-id-9 div.sk-parallel-item::before {content: \"\";position: absolute;border-left: 1px solid gray;box-sizing: border-box;top: 0;bottom: 0;left: 50%;z-index: -1;}#sk-container-id-9 div.sk-parallel-item {display: flex;flex-direction: column;z-index: 1;position: relative;background-color: white;}#sk-container-id-9 div.sk-parallel-item:first-child::after {align-self: flex-end;width: 50%;}#sk-container-id-9 div.sk-parallel-item:last-child::after {align-self: flex-start;width: 50%;}#sk-container-id-9 div.sk-parallel-item:only-child::after {width: 0;}#sk-container-id-9 div.sk-dashed-wrapped {border: 1px dashed gray;margin: 0 0.4em 0.5em 0.4em;box-sizing: border-box;padding-bottom: 0.4em;background-color: white;}#sk-container-id-9 div.sk-label label {font-family: monospace;font-weight: bold;display: inline-block;line-height: 1.2em;}#sk-container-id-9 div.sk-label-container {text-align: center;}#sk-container-id-9 div.sk-container {/* jupyter's `normalize.less` sets `[hidden] { display: none; }` but bootstrap.min.css set `[hidden] { display: none !important; }` so we also need the `!important` here to be able to override the default hidden behavior on the sphinx rendered scikit-learn.org. See: https://github.com/scikit-learn/scikit-learn/issues/21755 */display: inline-block !important;position: relative;}#sk-container-id-9 div.sk-text-repr-fallback {display: none;}</style><div id=\"sk-container-id-9\" class=\"sk-top-container\"><div class=\"sk-text-repr-fallback\"><pre>RandomForestRegressor()</pre><b>In a Jupyter environment, please rerun this cell to show the HTML representation or trust the notebook. <br />On GitHub, the HTML representation is unable to render, please try loading this page with nbviewer.org.</b></div><div class=\"sk-container\" hidden><div class=\"sk-item\"><div class=\"sk-estimator sk-toggleable\"><input class=\"sk-toggleable__control sk-hidden--visually\" id=\"sk-estimator-id-13\" type=\"checkbox\" checked><label for=\"sk-estimator-id-13\" class=\"sk-toggleable__label sk-toggleable__label-arrow\">RandomForestRegressor</label><div class=\"sk-toggleable__content\"><pre>RandomForestRegressor()</pre></div></div></div></div></div>"
      ],
      "text/plain": [
       "RandomForestRegressor()"
      ]
     },
     "execution_count": 111,
     "metadata": {},
     "output_type": "execute_result"
    }
   ],
   "source": [
    "from sklearn.ensemble import RandomForestRegressor\n",
    "rf_model=RandomForestRegressor()\n",
    "rf_model.fit(x_train,y_train)"
   ]
  },
  {
   "cell_type": "code",
   "execution_count": 112,
   "id": "4f991f60",
   "metadata": {},
   "outputs": [
    {
     "name": "stdout",
     "output_type": "stream",
     "text": [
      "mean_squared_error=20609.048827560604\n",
      "root of mean_squared_error=143.55852056760895\n",
      "mean_absolute_error=58.652959796826984\n",
      "r2_score=0.16594929450730023\n"
     ]
    }
   ],
   "source": [
    "#Model Evalution \n",
    "#testing data Evalution\n",
    "y_test_predict=rf_model.predict(x_test)\n",
    "mod_eval(y_test,y_test_predict)"
   ]
  },
  {
   "cell_type": "code",
   "execution_count": 113,
   "id": "11583df9",
   "metadata": {},
   "outputs": [
    {
     "name": "stdout",
     "output_type": "stream",
     "text": [
      "mean_squared_error=2272.2371728694347\n",
      "root of mean_squared_error=47.66798897446204\n",
      "mean_absolute_error=20.813513954657292\n",
      "r2_score=0.8924594042975218\n"
     ]
    }
   ],
   "source": [
    "#traning data Evalution\n",
    "y_train_predict=rf_model.predict(x_train)\n",
    "mod_eval(y_train,y_train_predict)"
   ]
  },
  {
   "cell_type": "markdown",
   "id": "6efe5cee",
   "metadata": {},
   "source": [
    "### Hypertune parameter of random forest"
   ]
  },
  {
   "cell_type": "code",
   "execution_count": 114,
   "id": "1afdc926",
   "metadata": {},
   "outputs": [
    {
     "data": {
      "text/html": [
       "<style>#sk-container-id-10 {color: black;background-color: white;}#sk-container-id-10 pre{padding: 0;}#sk-container-id-10 div.sk-toggleable {background-color: white;}#sk-container-id-10 label.sk-toggleable__label {cursor: pointer;display: block;width: 100%;margin-bottom: 0;padding: 0.3em;box-sizing: border-box;text-align: center;}#sk-container-id-10 label.sk-toggleable__label-arrow:before {content: \"▸\";float: left;margin-right: 0.25em;color: #696969;}#sk-container-id-10 label.sk-toggleable__label-arrow:hover:before {color: black;}#sk-container-id-10 div.sk-estimator:hover label.sk-toggleable__label-arrow:before {color: black;}#sk-container-id-10 div.sk-toggleable__content {max-height: 0;max-width: 0;overflow: hidden;text-align: left;background-color: #f0f8ff;}#sk-container-id-10 div.sk-toggleable__content pre {margin: 0.2em;color: black;border-radius: 0.25em;background-color: #f0f8ff;}#sk-container-id-10 input.sk-toggleable__control:checked~div.sk-toggleable__content {max-height: 200px;max-width: 100%;overflow: auto;}#sk-container-id-10 input.sk-toggleable__control:checked~label.sk-toggleable__label-arrow:before {content: \"▾\";}#sk-container-id-10 div.sk-estimator input.sk-toggleable__control:checked~label.sk-toggleable__label {background-color: #d4ebff;}#sk-container-id-10 div.sk-label input.sk-toggleable__control:checked~label.sk-toggleable__label {background-color: #d4ebff;}#sk-container-id-10 input.sk-hidden--visually {border: 0;clip: rect(1px 1px 1px 1px);clip: rect(1px, 1px, 1px, 1px);height: 1px;margin: -1px;overflow: hidden;padding: 0;position: absolute;width: 1px;}#sk-container-id-10 div.sk-estimator {font-family: monospace;background-color: #f0f8ff;border: 1px dotted black;border-radius: 0.25em;box-sizing: border-box;margin-bottom: 0.5em;}#sk-container-id-10 div.sk-estimator:hover {background-color: #d4ebff;}#sk-container-id-10 div.sk-parallel-item::after {content: \"\";width: 100%;border-bottom: 1px solid gray;flex-grow: 1;}#sk-container-id-10 div.sk-label:hover label.sk-toggleable__label {background-color: #d4ebff;}#sk-container-id-10 div.sk-serial::before {content: \"\";position: absolute;border-left: 1px solid gray;box-sizing: border-box;top: 0;bottom: 0;left: 50%;z-index: 0;}#sk-container-id-10 div.sk-serial {display: flex;flex-direction: column;align-items: center;background-color: white;padding-right: 0.2em;padding-left: 0.2em;position: relative;}#sk-container-id-10 div.sk-item {position: relative;z-index: 1;}#sk-container-id-10 div.sk-parallel {display: flex;align-items: stretch;justify-content: center;background-color: white;position: relative;}#sk-container-id-10 div.sk-item::before, #sk-container-id-10 div.sk-parallel-item::before {content: \"\";position: absolute;border-left: 1px solid gray;box-sizing: border-box;top: 0;bottom: 0;left: 50%;z-index: -1;}#sk-container-id-10 div.sk-parallel-item {display: flex;flex-direction: column;z-index: 1;position: relative;background-color: white;}#sk-container-id-10 div.sk-parallel-item:first-child::after {align-self: flex-end;width: 50%;}#sk-container-id-10 div.sk-parallel-item:last-child::after {align-self: flex-start;width: 50%;}#sk-container-id-10 div.sk-parallel-item:only-child::after {width: 0;}#sk-container-id-10 div.sk-dashed-wrapped {border: 1px dashed gray;margin: 0 0.4em 0.5em 0.4em;box-sizing: border-box;padding-bottom: 0.4em;background-color: white;}#sk-container-id-10 div.sk-label label {font-family: monospace;font-weight: bold;display: inline-block;line-height: 1.2em;}#sk-container-id-10 div.sk-label-container {text-align: center;}#sk-container-id-10 div.sk-container {/* jupyter's `normalize.less` sets `[hidden] { display: none; }` but bootstrap.min.css set `[hidden] { display: none !important; }` so we also need the `!important` here to be able to override the default hidden behavior on the sphinx rendered scikit-learn.org. See: https://github.com/scikit-learn/scikit-learn/issues/21755 */display: inline-block !important;position: relative;}#sk-container-id-10 div.sk-text-repr-fallback {display: none;}</style><div id=\"sk-container-id-10\" class=\"sk-top-container\"><div class=\"sk-text-repr-fallback\"><pre>RandomizedSearchCV(cv=5, estimator=RandomForestRegressor(),\n",
       "                   param_distributions={&#x27;bootstrap&#x27;: [&#x27;True&#x27;, &#x27;False&#x27;],\n",
       "                                        &#x27;criterion&#x27;: [&#x27;absolute_error&#x27;,\n",
       "                                                      &#x27;squared_error&#x27;],\n",
       "                                        &#x27;max_depth&#x27;: array([2, 3, 4, 5, 6, 7, 8, 9]),\n",
       "                                        &#x27;max_features&#x27;: [&#x27;sqrt&#x27;, &#x27;log2&#x27;],\n",
       "                                        &#x27;min_samples_leaf&#x27;: array([ 3,  4,  5,  6,  7,  8,  9, 10, 11, 12, 13, 14]),\n",
       "                                        &#x27;min_samples_split&#x27;: array([ 3,  4,  5,  6,  7,  8,  9, 10, 11, 12, 13, 14]),\n",
       "                                        &#x27;n_estimators&#x27;: array([ 50,  60,  70,  80,  90, 100, 110, 120, 130, 140]),\n",
       "                                        &#x27;oob_score&#x27;: [&#x27;False&#x27;, &#x27;True&#x27;]})</pre><b>In a Jupyter environment, please rerun this cell to show the HTML representation or trust the notebook. <br />On GitHub, the HTML representation is unable to render, please try loading this page with nbviewer.org.</b></div><div class=\"sk-container\" hidden><div class=\"sk-item sk-dashed-wrapped\"><div class=\"sk-label-container\"><div class=\"sk-label sk-toggleable\"><input class=\"sk-toggleable__control sk-hidden--visually\" id=\"sk-estimator-id-14\" type=\"checkbox\" ><label for=\"sk-estimator-id-14\" class=\"sk-toggleable__label sk-toggleable__label-arrow\">RandomizedSearchCV</label><div class=\"sk-toggleable__content\"><pre>RandomizedSearchCV(cv=5, estimator=RandomForestRegressor(),\n",
       "                   param_distributions={&#x27;bootstrap&#x27;: [&#x27;True&#x27;, &#x27;False&#x27;],\n",
       "                                        &#x27;criterion&#x27;: [&#x27;absolute_error&#x27;,\n",
       "                                                      &#x27;squared_error&#x27;],\n",
       "                                        &#x27;max_depth&#x27;: array([2, 3, 4, 5, 6, 7, 8, 9]),\n",
       "                                        &#x27;max_features&#x27;: [&#x27;sqrt&#x27;, &#x27;log2&#x27;],\n",
       "                                        &#x27;min_samples_leaf&#x27;: array([ 3,  4,  5,  6,  7,  8,  9, 10, 11, 12, 13, 14]),\n",
       "                                        &#x27;min_samples_split&#x27;: array([ 3,  4,  5,  6,  7,  8,  9, 10, 11, 12, 13, 14]),\n",
       "                                        &#x27;n_estimators&#x27;: array([ 50,  60,  70,  80,  90, 100, 110, 120, 130, 140]),\n",
       "                                        &#x27;oob_score&#x27;: [&#x27;False&#x27;, &#x27;True&#x27;]})</pre></div></div></div><div class=\"sk-parallel\"><div class=\"sk-parallel-item\"><div class=\"sk-item\"><div class=\"sk-label-container\"><div class=\"sk-label sk-toggleable\"><input class=\"sk-toggleable__control sk-hidden--visually\" id=\"sk-estimator-id-15\" type=\"checkbox\" ><label for=\"sk-estimator-id-15\" class=\"sk-toggleable__label sk-toggleable__label-arrow\">estimator: RandomForestRegressor</label><div class=\"sk-toggleable__content\"><pre>RandomForestRegressor()</pre></div></div></div><div class=\"sk-serial\"><div class=\"sk-item\"><div class=\"sk-estimator sk-toggleable\"><input class=\"sk-toggleable__control sk-hidden--visually\" id=\"sk-estimator-id-16\" type=\"checkbox\" ><label for=\"sk-estimator-id-16\" class=\"sk-toggleable__label sk-toggleable__label-arrow\">RandomForestRegressor</label><div class=\"sk-toggleable__content\"><pre>RandomForestRegressor()</pre></div></div></div></div></div></div></div></div></div></div>"
      ],
      "text/plain": [
       "RandomizedSearchCV(cv=5, estimator=RandomForestRegressor(),\n",
       "                   param_distributions={'bootstrap': ['True', 'False'],\n",
       "                                        'criterion': ['absolute_error',\n",
       "                                                      'squared_error'],\n",
       "                                        'max_depth': array([2, 3, 4, 5, 6, 7, 8, 9]),\n",
       "                                        'max_features': ['sqrt', 'log2'],\n",
       "                                        'min_samples_leaf': array([ 3,  4,  5,  6,  7,  8,  9, 10, 11, 12, 13, 14]),\n",
       "                                        'min_samples_split': array([ 3,  4,  5,  6,  7,  8,  9, 10, 11, 12, 13, 14]),\n",
       "                                        'n_estimators': array([ 50,  60,  70,  80,  90, 100, 110, 120, 130, 140]),\n",
       "                                        'oob_score': ['False', 'True']})"
      ]
     },
     "execution_count": 114,
     "metadata": {},
     "output_type": "execute_result"
    }
   ],
   "source": [
    "rf_model=RandomForestRegressor()\n",
    "hyp={\n",
    "    'n_estimators': np.arange(50,150,10),\n",
    "    'criterion':['absolute_error','squared_error'],\n",
    "    'max_depth':np.arange(2,10),\n",
    "    'min_samples_split':np.arange(3,15),\n",
    "    'min_samples_leaf':np.arange(3,15),\n",
    "    'bootstrap':['True','False'],\n",
    "    'max_features':[\"sqrt\", \"log2\"],\n",
    "    'oob_score':['False','True']\n",
    "}\n",
    "rscv=RandomizedSearchCV(rf_model,hyp,cv=5)\n",
    "rscv.fit(x_train,y_train)"
   ]
  },
  {
   "cell_type": "code",
   "execution_count": 115,
   "id": "f5ff79f9",
   "metadata": {},
   "outputs": [
    {
     "data": {
      "text/html": [
       "<style>#sk-container-id-11 {color: black;background-color: white;}#sk-container-id-11 pre{padding: 0;}#sk-container-id-11 div.sk-toggleable {background-color: white;}#sk-container-id-11 label.sk-toggleable__label {cursor: pointer;display: block;width: 100%;margin-bottom: 0;padding: 0.3em;box-sizing: border-box;text-align: center;}#sk-container-id-11 label.sk-toggleable__label-arrow:before {content: \"▸\";float: left;margin-right: 0.25em;color: #696969;}#sk-container-id-11 label.sk-toggleable__label-arrow:hover:before {color: black;}#sk-container-id-11 div.sk-estimator:hover label.sk-toggleable__label-arrow:before {color: black;}#sk-container-id-11 div.sk-toggleable__content {max-height: 0;max-width: 0;overflow: hidden;text-align: left;background-color: #f0f8ff;}#sk-container-id-11 div.sk-toggleable__content pre {margin: 0.2em;color: black;border-radius: 0.25em;background-color: #f0f8ff;}#sk-container-id-11 input.sk-toggleable__control:checked~div.sk-toggleable__content {max-height: 200px;max-width: 100%;overflow: auto;}#sk-container-id-11 input.sk-toggleable__control:checked~label.sk-toggleable__label-arrow:before {content: \"▾\";}#sk-container-id-11 div.sk-estimator input.sk-toggleable__control:checked~label.sk-toggleable__label {background-color: #d4ebff;}#sk-container-id-11 div.sk-label input.sk-toggleable__control:checked~label.sk-toggleable__label {background-color: #d4ebff;}#sk-container-id-11 input.sk-hidden--visually {border: 0;clip: rect(1px 1px 1px 1px);clip: rect(1px, 1px, 1px, 1px);height: 1px;margin: -1px;overflow: hidden;padding: 0;position: absolute;width: 1px;}#sk-container-id-11 div.sk-estimator {font-family: monospace;background-color: #f0f8ff;border: 1px dotted black;border-radius: 0.25em;box-sizing: border-box;margin-bottom: 0.5em;}#sk-container-id-11 div.sk-estimator:hover {background-color: #d4ebff;}#sk-container-id-11 div.sk-parallel-item::after {content: \"\";width: 100%;border-bottom: 1px solid gray;flex-grow: 1;}#sk-container-id-11 div.sk-label:hover label.sk-toggleable__label {background-color: #d4ebff;}#sk-container-id-11 div.sk-serial::before {content: \"\";position: absolute;border-left: 1px solid gray;box-sizing: border-box;top: 0;bottom: 0;left: 50%;z-index: 0;}#sk-container-id-11 div.sk-serial {display: flex;flex-direction: column;align-items: center;background-color: white;padding-right: 0.2em;padding-left: 0.2em;position: relative;}#sk-container-id-11 div.sk-item {position: relative;z-index: 1;}#sk-container-id-11 div.sk-parallel {display: flex;align-items: stretch;justify-content: center;background-color: white;position: relative;}#sk-container-id-11 div.sk-item::before, #sk-container-id-11 div.sk-parallel-item::before {content: \"\";position: absolute;border-left: 1px solid gray;box-sizing: border-box;top: 0;bottom: 0;left: 50%;z-index: -1;}#sk-container-id-11 div.sk-parallel-item {display: flex;flex-direction: column;z-index: 1;position: relative;background-color: white;}#sk-container-id-11 div.sk-parallel-item:first-child::after {align-self: flex-end;width: 50%;}#sk-container-id-11 div.sk-parallel-item:last-child::after {align-self: flex-start;width: 50%;}#sk-container-id-11 div.sk-parallel-item:only-child::after {width: 0;}#sk-container-id-11 div.sk-dashed-wrapped {border: 1px dashed gray;margin: 0 0.4em 0.5em 0.4em;box-sizing: border-box;padding-bottom: 0.4em;background-color: white;}#sk-container-id-11 div.sk-label label {font-family: monospace;font-weight: bold;display: inline-block;line-height: 1.2em;}#sk-container-id-11 div.sk-label-container {text-align: center;}#sk-container-id-11 div.sk-container {/* jupyter's `normalize.less` sets `[hidden] { display: none; }` but bootstrap.min.css set `[hidden] { display: none !important; }` so we also need the `!important` here to be able to override the default hidden behavior on the sphinx rendered scikit-learn.org. See: https://github.com/scikit-learn/scikit-learn/issues/21755 */display: inline-block !important;position: relative;}#sk-container-id-11 div.sk-text-repr-fallback {display: none;}</style><div id=\"sk-container-id-11\" class=\"sk-top-container\"><div class=\"sk-text-repr-fallback\"><pre>RandomForestRegressor(bootstrap=&#x27;True&#x27;, max_depth=8, max_features=&#x27;sqrt&#x27;,\n",
       "                      min_samples_leaf=10, min_samples_split=8, n_estimators=80,\n",
       "                      oob_score=&#x27;False&#x27;)</pre><b>In a Jupyter environment, please rerun this cell to show the HTML representation or trust the notebook. <br />On GitHub, the HTML representation is unable to render, please try loading this page with nbviewer.org.</b></div><div class=\"sk-container\" hidden><div class=\"sk-item\"><div class=\"sk-estimator sk-toggleable\"><input class=\"sk-toggleable__control sk-hidden--visually\" id=\"sk-estimator-id-17\" type=\"checkbox\" checked><label for=\"sk-estimator-id-17\" class=\"sk-toggleable__label sk-toggleable__label-arrow\">RandomForestRegressor</label><div class=\"sk-toggleable__content\"><pre>RandomForestRegressor(bootstrap=&#x27;True&#x27;, max_depth=8, max_features=&#x27;sqrt&#x27;,\n",
       "                      min_samples_leaf=10, min_samples_split=8, n_estimators=80,\n",
       "                      oob_score=&#x27;False&#x27;)</pre></div></div></div></div></div>"
      ],
      "text/plain": [
       "RandomForestRegressor(bootstrap='True', max_depth=8, max_features='sqrt',\n",
       "                      min_samples_leaf=10, min_samples_split=8, n_estimators=80,\n",
       "                      oob_score='False')"
      ]
     },
     "execution_count": 115,
     "metadata": {},
     "output_type": "execute_result"
    }
   ],
   "source": [
    "rscv.best_estimator_"
   ]
  },
  {
   "cell_type": "code",
   "execution_count": 116,
   "id": "c31cbf1e",
   "metadata": {},
   "outputs": [
    {
     "data": {
      "text/html": [
       "<style>#sk-container-id-12 {color: black;background-color: white;}#sk-container-id-12 pre{padding: 0;}#sk-container-id-12 div.sk-toggleable {background-color: white;}#sk-container-id-12 label.sk-toggleable__label {cursor: pointer;display: block;width: 100%;margin-bottom: 0;padding: 0.3em;box-sizing: border-box;text-align: center;}#sk-container-id-12 label.sk-toggleable__label-arrow:before {content: \"▸\";float: left;margin-right: 0.25em;color: #696969;}#sk-container-id-12 label.sk-toggleable__label-arrow:hover:before {color: black;}#sk-container-id-12 div.sk-estimator:hover label.sk-toggleable__label-arrow:before {color: black;}#sk-container-id-12 div.sk-toggleable__content {max-height: 0;max-width: 0;overflow: hidden;text-align: left;background-color: #f0f8ff;}#sk-container-id-12 div.sk-toggleable__content pre {margin: 0.2em;color: black;border-radius: 0.25em;background-color: #f0f8ff;}#sk-container-id-12 input.sk-toggleable__control:checked~div.sk-toggleable__content {max-height: 200px;max-width: 100%;overflow: auto;}#sk-container-id-12 input.sk-toggleable__control:checked~label.sk-toggleable__label-arrow:before {content: \"▾\";}#sk-container-id-12 div.sk-estimator input.sk-toggleable__control:checked~label.sk-toggleable__label {background-color: #d4ebff;}#sk-container-id-12 div.sk-label input.sk-toggleable__control:checked~label.sk-toggleable__label {background-color: #d4ebff;}#sk-container-id-12 input.sk-hidden--visually {border: 0;clip: rect(1px 1px 1px 1px);clip: rect(1px, 1px, 1px, 1px);height: 1px;margin: -1px;overflow: hidden;padding: 0;position: absolute;width: 1px;}#sk-container-id-12 div.sk-estimator {font-family: monospace;background-color: #f0f8ff;border: 1px dotted black;border-radius: 0.25em;box-sizing: border-box;margin-bottom: 0.5em;}#sk-container-id-12 div.sk-estimator:hover {background-color: #d4ebff;}#sk-container-id-12 div.sk-parallel-item::after {content: \"\";width: 100%;border-bottom: 1px solid gray;flex-grow: 1;}#sk-container-id-12 div.sk-label:hover label.sk-toggleable__label {background-color: #d4ebff;}#sk-container-id-12 div.sk-serial::before {content: \"\";position: absolute;border-left: 1px solid gray;box-sizing: border-box;top: 0;bottom: 0;left: 50%;z-index: 0;}#sk-container-id-12 div.sk-serial {display: flex;flex-direction: column;align-items: center;background-color: white;padding-right: 0.2em;padding-left: 0.2em;position: relative;}#sk-container-id-12 div.sk-item {position: relative;z-index: 1;}#sk-container-id-12 div.sk-parallel {display: flex;align-items: stretch;justify-content: center;background-color: white;position: relative;}#sk-container-id-12 div.sk-item::before, #sk-container-id-12 div.sk-parallel-item::before {content: \"\";position: absolute;border-left: 1px solid gray;box-sizing: border-box;top: 0;bottom: 0;left: 50%;z-index: -1;}#sk-container-id-12 div.sk-parallel-item {display: flex;flex-direction: column;z-index: 1;position: relative;background-color: white;}#sk-container-id-12 div.sk-parallel-item:first-child::after {align-self: flex-end;width: 50%;}#sk-container-id-12 div.sk-parallel-item:last-child::after {align-self: flex-start;width: 50%;}#sk-container-id-12 div.sk-parallel-item:only-child::after {width: 0;}#sk-container-id-12 div.sk-dashed-wrapped {border: 1px dashed gray;margin: 0 0.4em 0.5em 0.4em;box-sizing: border-box;padding-bottom: 0.4em;background-color: white;}#sk-container-id-12 div.sk-label label {font-family: monospace;font-weight: bold;display: inline-block;line-height: 1.2em;}#sk-container-id-12 div.sk-label-container {text-align: center;}#sk-container-id-12 div.sk-container {/* jupyter's `normalize.less` sets `[hidden] { display: none; }` but bootstrap.min.css set `[hidden] { display: none !important; }` so we also need the `!important` here to be able to override the default hidden behavior on the sphinx rendered scikit-learn.org. See: https://github.com/scikit-learn/scikit-learn/issues/21755 */display: inline-block !important;position: relative;}#sk-container-id-12 div.sk-text-repr-fallback {display: none;}</style><div id=\"sk-container-id-12\" class=\"sk-top-container\"><div class=\"sk-text-repr-fallback\"><pre>RandomForestRegressor(bootstrap=&#x27;True&#x27;, max_depth=8, max_features=&#x27;sqrt&#x27;,\n",
       "                      min_samples_leaf=10, min_samples_split=8, n_estimators=80,\n",
       "                      oob_score=&#x27;False&#x27;)</pre><b>In a Jupyter environment, please rerun this cell to show the HTML representation or trust the notebook. <br />On GitHub, the HTML representation is unable to render, please try loading this page with nbviewer.org.</b></div><div class=\"sk-container\" hidden><div class=\"sk-item\"><div class=\"sk-estimator sk-toggleable\"><input class=\"sk-toggleable__control sk-hidden--visually\" id=\"sk-estimator-id-18\" type=\"checkbox\" checked><label for=\"sk-estimator-id-18\" class=\"sk-toggleable__label sk-toggleable__label-arrow\">RandomForestRegressor</label><div class=\"sk-toggleable__content\"><pre>RandomForestRegressor(bootstrap=&#x27;True&#x27;, max_depth=8, max_features=&#x27;sqrt&#x27;,\n",
       "                      min_samples_leaf=10, min_samples_split=8, n_estimators=80,\n",
       "                      oob_score=&#x27;False&#x27;)</pre></div></div></div></div></div>"
      ],
      "text/plain": [
       "RandomForestRegressor(bootstrap='True', max_depth=8, max_features='sqrt',\n",
       "                      min_samples_leaf=10, min_samples_split=8, n_estimators=80,\n",
       "                      oob_score='False')"
      ]
     },
     "execution_count": 116,
     "metadata": {},
     "output_type": "execute_result"
    }
   ],
   "source": [
    "# Model Traning on hypertune parameter\n",
    "\n",
    "rf_hyp_model=rscv.best_estimator_\n",
    "rf_hyp_model.fit(x_train,y_train)"
   ]
  },
  {
   "cell_type": "code",
   "execution_count": 118,
   "id": "ef922ac2",
   "metadata": {},
   "outputs": [
    {
     "name": "stdout",
     "output_type": "stream",
     "text": [
      "mean_squared_error=18062.9533845872\n",
      "root of mean_squared_error=134.39848728533815\n",
      "mean_absolute_error=52.826816162143025\n",
      "r2_score=0.2689900858719094\n"
     ]
    }
   ],
   "source": [
    "#Model Evalution \n",
    "#testing data Evalution\n",
    "y_test_predict=rf_hyp_model.predict(x_test)\n",
    "mod_eval(y_test,y_test_predict)"
   ]
  },
  {
   "cell_type": "code",
   "execution_count": 120,
   "id": "9850e57e",
   "metadata": {},
   "outputs": [
    {
     "name": "stdout",
     "output_type": "stream",
     "text": [
      "mean_squared_error=13164.774446136495\n",
      "root of mean_squared_error=114.73785097402032\n",
      "mean_absolute_error=48.00111607475545\n",
      "r2_score=0.3769366582281365\n"
     ]
    }
   ],
   "source": [
    "#traning data Evalution\n",
    "y_train_predict=rf_hyp_model.predict(x_train)\n",
    "mod_eval(y_train,y_train_predict)"
   ]
  },
  {
   "cell_type": "raw",
   "id": "765d75d6",
   "metadata": {},
   "source": [
    "algo             testing Traning\n",
    "Lin_reg>>>>>>>>>>>20 & 22\n",
    "knn>>>>>>>>>>>>>>5 & 45\n",
    "hyp_knn>>>>>>>>>> 18 &35\n",
    "dt_tree >>>>>>>>>25 & 99\n",
    "dt_hyp_model>>>>>25 & 29\n",
    "rf_model>>>>>>>>>16 & 89\n",
    "rf_hyp_model>>>> 26 & 37"
   ]
  },
  {
   "cell_type": "markdown",
   "id": "49e06de8",
   "metadata": {},
   "source": [
    "### user test function"
   ]
  },
  {
   "cell_type": "code",
   "execution_count": 121,
   "id": "dda9e08e",
   "metadata": {},
   "outputs": [
    {
     "data": {
      "text/plain": [
       "array([57.46565999])"
      ]
     },
     "execution_count": 121,
     "metadata": {},
     "output_type": "execute_result"
    }
   ],
   "source": [
    "user_input=x.head(1)\n",
    "rf_hyp_model.predict(user_input)\n"
   ]
  },
  {
   "cell_type": "code",
   "execution_count": 122,
   "id": "3861cf25",
   "metadata": {},
   "outputs": [
    {
     "data": {
      "text/plain": [
       "0    39.07\n",
       "Name: price, dtype: float64"
      ]
     },
     "execution_count": 122,
     "metadata": {},
     "output_type": "execute_result"
    }
   ],
   "source": [
    "y.head(1)"
   ]
  },
  {
   "cell_type": "code",
   "execution_count": 126,
   "id": "84fbad87",
   "metadata": {},
   "outputs": [
    {
     "data": {
      "text/plain": [
       "{'column': ['area_type', 'bath', 'balcony', 'sz', 'sqft1', 'location']}"
      ]
     },
     "execution_count": 126,
     "metadata": {},
     "output_type": "execute_result"
    }
   ],
   "source": [
    "# here we make json file for all feature\n",
    "column_list=x.columns\n",
    "column_list=list(column_list)\n",
    "col_dict={'column':column_list}\n",
    "col_dict"
   ]
  },
  {
   "cell_type": "code",
   "execution_count": 129,
   "id": "55d5b1e3",
   "metadata": {},
   "outputs": [],
   "source": [
    "import json\n",
    "with open('column_list.json','w') as file:\n",
    "    json.dump(col_dict,file)"
   ]
  },
  {
   "cell_type": "code",
   "execution_count": 130,
   "id": "337efd67",
   "metadata": {},
   "outputs": [],
   "source": [
    "# here we import our final model for API purpose(API create in vs code)\n",
    "import pickle\n",
    "with open('model.pkl','wb') as file:\n",
    "    pickle.dump(rf_hyp_model,file)"
   ]
  },
  {
   "cell_type": "code",
   "execution_count": 131,
   "id": "aa0b5ca5",
   "metadata": {},
   "outputs": [
    {
     "data": {
      "text/plain": [
       "Index(['area_type', 'availability', 'size', 'society', 'total_sqft', 'bath',\n",
       "       'balcony', 'price', 'site_location', 'sz', 'sqft1', 'location'],\n",
       "      dtype='object')"
      ]
     },
     "execution_count": 131,
     "metadata": {},
     "output_type": "execute_result"
    }
   ],
   "source": [
    "df.columns"
   ]
  },
  {
   "cell_type": "code",
   "execution_count": 132,
   "id": "cadfa2a4",
   "metadata": {},
   "outputs": [
    {
     "data": {
      "text/html": [
       "<div>\n",
       "<style scoped>\n",
       "    .dataframe tbody tr th:only-of-type {\n",
       "        vertical-align: middle;\n",
       "    }\n",
       "\n",
       "    .dataframe tbody tr th {\n",
       "        vertical-align: top;\n",
       "    }\n",
       "\n",
       "    .dataframe thead th {\n",
       "        text-align: right;\n",
       "    }\n",
       "</style>\n",
       "<table border=\"1\" class=\"dataframe\">\n",
       "  <thead>\n",
       "    <tr style=\"text-align: right;\">\n",
       "      <th></th>\n",
       "      <th>area_type</th>\n",
       "      <th>availability</th>\n",
       "      <th>size</th>\n",
       "      <th>society</th>\n",
       "      <th>total_sqft</th>\n",
       "      <th>bath</th>\n",
       "      <th>balcony</th>\n",
       "      <th>price</th>\n",
       "      <th>site_location</th>\n",
       "      <th>sz</th>\n",
       "      <th>sqft1</th>\n",
       "      <th>location</th>\n",
       "    </tr>\n",
       "  </thead>\n",
       "  <tbody>\n",
       "    <tr>\n",
       "      <th>0</th>\n",
       "      <td>4</td>\n",
       "      <td>19-Dec</td>\n",
       "      <td>2 BHK</td>\n",
       "      <td>Coomee</td>\n",
       "      <td>1056</td>\n",
       "      <td>2.0</td>\n",
       "      <td>1.0</td>\n",
       "      <td>39.07</td>\n",
       "      <td>Alandi Road</td>\n",
       "      <td>2.0</td>\n",
       "      <td>1056.0</td>\n",
       "      <td>0</td>\n",
       "    </tr>\n",
       "    <tr>\n",
       "      <th>1</th>\n",
       "      <td>1</td>\n",
       "      <td>Ready To Move</td>\n",
       "      <td>4 Bedroom</td>\n",
       "      <td>Theanmp</td>\n",
       "      <td>2600</td>\n",
       "      <td>5.0</td>\n",
       "      <td>3.0</td>\n",
       "      <td>120.00</td>\n",
       "      <td>Ambegaon Budruk</td>\n",
       "      <td>4.0</td>\n",
       "      <td>2600.0</td>\n",
       "      <td>1</td>\n",
       "    </tr>\n",
       "    <tr>\n",
       "      <th>2</th>\n",
       "      <td>3</td>\n",
       "      <td>Ready To Move</td>\n",
       "      <td>3 BHK</td>\n",
       "      <td>NaN</td>\n",
       "      <td>1440</td>\n",
       "      <td>2.0</td>\n",
       "      <td>3.0</td>\n",
       "      <td>62.00</td>\n",
       "      <td>Anandnagar</td>\n",
       "      <td>3.0</td>\n",
       "      <td>1440.0</td>\n",
       "      <td>2</td>\n",
       "    </tr>\n",
       "    <tr>\n",
       "      <th>3</th>\n",
       "      <td>4</td>\n",
       "      <td>Ready To Move</td>\n",
       "      <td>3 BHK</td>\n",
       "      <td>Soiewre</td>\n",
       "      <td>1521</td>\n",
       "      <td>3.0</td>\n",
       "      <td>1.0</td>\n",
       "      <td>95.00</td>\n",
       "      <td>Aundh</td>\n",
       "      <td>3.0</td>\n",
       "      <td>1521.0</td>\n",
       "      <td>3</td>\n",
       "    </tr>\n",
       "    <tr>\n",
       "      <th>4</th>\n",
       "      <td>4</td>\n",
       "      <td>Ready To Move</td>\n",
       "      <td>2 BHK</td>\n",
       "      <td>NaN</td>\n",
       "      <td>1200</td>\n",
       "      <td>2.0</td>\n",
       "      <td>1.0</td>\n",
       "      <td>51.00</td>\n",
       "      <td>Aundh Road</td>\n",
       "      <td>2.0</td>\n",
       "      <td>1200.0</td>\n",
       "      <td>4</td>\n",
       "    </tr>\n",
       "  </tbody>\n",
       "</table>\n",
       "</div>"
      ],
      "text/plain": [
       "   area_type   availability       size  society total_sqft  bath  balcony  \\\n",
       "0          4         19-Dec      2 BHK  Coomee        1056   2.0      1.0   \n",
       "1          1  Ready To Move  4 Bedroom  Theanmp       2600   5.0      3.0   \n",
       "2          3  Ready To Move      3 BHK      NaN       1440   2.0      3.0   \n",
       "3          4  Ready To Move      3 BHK  Soiewre       1521   3.0      1.0   \n",
       "4          4  Ready To Move      2 BHK      NaN       1200   2.0      1.0   \n",
       "\n",
       "    price    site_location   sz   sqft1  location  \n",
       "0   39.07      Alandi Road  2.0  1056.0         0  \n",
       "1  120.00  Ambegaon Budruk  4.0  2600.0         1  \n",
       "2   62.00       Anandnagar  3.0  1440.0         2  \n",
       "3   95.00            Aundh  3.0  1521.0         3  \n",
       "4   51.00       Aundh Road  2.0  1200.0         4  "
      ]
     },
     "execution_count": 132,
     "metadata": {},
     "output_type": "execute_result"
    }
   ],
   "source": [
    "df.head()"
   ]
  },
  {
   "cell_type": "code",
   "execution_count": 133,
   "id": "26e5f6dd",
   "metadata": {},
   "outputs": [
    {
     "data": {
      "text/html": [
       "<div>\n",
       "<style scoped>\n",
       "    .dataframe tbody tr th:only-of-type {\n",
       "        vertical-align: middle;\n",
       "    }\n",
       "\n",
       "    .dataframe tbody tr th {\n",
       "        vertical-align: top;\n",
       "    }\n",
       "\n",
       "    .dataframe thead th {\n",
       "        text-align: right;\n",
       "    }\n",
       "</style>\n",
       "<table border=\"1\" class=\"dataframe\">\n",
       "  <thead>\n",
       "    <tr style=\"text-align: right;\">\n",
       "      <th></th>\n",
       "      <th>area_type</th>\n",
       "      <th>bath</th>\n",
       "      <th>balcony</th>\n",
       "      <th>sz</th>\n",
       "      <th>sqft1</th>\n",
       "      <th>location</th>\n",
       "    </tr>\n",
       "  </thead>\n",
       "  <tbody>\n",
       "    <tr>\n",
       "      <th>0</th>\n",
       "      <td>4</td>\n",
       "      <td>2.0</td>\n",
       "      <td>1.0</td>\n",
       "      <td>2.0</td>\n",
       "      <td>1056.0</td>\n",
       "      <td>0</td>\n",
       "    </tr>\n",
       "    <tr>\n",
       "      <th>1</th>\n",
       "      <td>1</td>\n",
       "      <td>5.0</td>\n",
       "      <td>3.0</td>\n",
       "      <td>4.0</td>\n",
       "      <td>2600.0</td>\n",
       "      <td>1</td>\n",
       "    </tr>\n",
       "    <tr>\n",
       "      <th>2</th>\n",
       "      <td>3</td>\n",
       "      <td>2.0</td>\n",
       "      <td>3.0</td>\n",
       "      <td>3.0</td>\n",
       "      <td>1440.0</td>\n",
       "      <td>2</td>\n",
       "    </tr>\n",
       "    <tr>\n",
       "      <th>3</th>\n",
       "      <td>4</td>\n",
       "      <td>3.0</td>\n",
       "      <td>1.0</td>\n",
       "      <td>3.0</td>\n",
       "      <td>1521.0</td>\n",
       "      <td>3</td>\n",
       "    </tr>\n",
       "    <tr>\n",
       "      <th>4</th>\n",
       "      <td>4</td>\n",
       "      <td>2.0</td>\n",
       "      <td>1.0</td>\n",
       "      <td>2.0</td>\n",
       "      <td>1200.0</td>\n",
       "      <td>4</td>\n",
       "    </tr>\n",
       "  </tbody>\n",
       "</table>\n",
       "</div>"
      ],
      "text/plain": [
       "   area_type  bath  balcony   sz   sqft1  location\n",
       "0          4   2.0      1.0  2.0  1056.0         0\n",
       "1          1   5.0      3.0  4.0  2600.0         1\n",
       "2          3   2.0      3.0  3.0  1440.0         2\n",
       "3          4   3.0      1.0  3.0  1521.0         3\n",
       "4          4   2.0      1.0  2.0  1200.0         4"
      ]
     },
     "execution_count": 133,
     "metadata": {},
     "output_type": "execute_result"
    }
   ],
   "source": [
    "x.head()"
   ]
  },
  {
   "cell_type": "code",
   "execution_count": null,
   "id": "c656b7f2",
   "metadata": {},
   "outputs": [],
   "source": []
  }
 ],
 "metadata": {
  "kernelspec": {
   "display_name": "pune",
   "language": "python",
   "name": "pune"
  },
  "language_info": {
   "codemirror_mode": {
    "name": "ipython",
    "version": 3
   },
   "file_extension": ".py",
   "mimetype": "text/x-python",
   "name": "python",
   "nbconvert_exporter": "python",
   "pygments_lexer": "ipython3",
   "version": "3.8.10"
  },
  "varInspector": {
   "cols": {
    "lenName": 16,
    "lenType": 16,
    "lenVar": 40
   },
   "kernels_config": {
    "python": {
     "delete_cmd_postfix": "",
     "delete_cmd_prefix": "del ",
     "library": "var_list.py",
     "varRefreshCmd": "print(var_dic_list())"
    },
    "r": {
     "delete_cmd_postfix": ") ",
     "delete_cmd_prefix": "rm(",
     "library": "var_list.r",
     "varRefreshCmd": "cat(var_dic_list()) "
    }
   },
   "types_to_exclude": [
    "module",
    "function",
    "builtin_function_or_method",
    "instance",
    "_Feature"
   ],
   "window_display": false
  }
 },
 "nbformat": 4,
 "nbformat_minor": 5
}
